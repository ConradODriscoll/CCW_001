{
  "cells": [
    {
      "cell_type": "markdown",
      "metadata": {
        "id": "i9gPY-UfvftG"
      },
      "source": [
        "# Importing Packages"
      ]
    },
    {
      "cell_type": "code",
      "execution_count": null,
      "metadata": {
        "id": "Y013psN1vipW"
      },
      "outputs": [],
      "source": [
        "# # # # # Uncomment VV for session restart\n",
        "# !pip install git+https://github.com/ConradODriscoll/neurogym_copy\n",
        "# !pip install git+https://github.com/DLR-RM/stable-baselines3\n",
        "# !pip install git+https://github.com/Stable-Baselines-Team/stable-baselines3-contrib\n",
        "# !pip install deepdiff"
      ]
    },
    {
      "cell_type": "code",
      "execution_count": null,
      "metadata": {
        "id": "7D-CJ15dewzV"
      },
      "outputs": [],
      "source": [
        "# Imports\n",
        "import math\n",
        "import numpy as np\n",
        "import matplotlib.pyplot as plt\n",
        "import torch\n",
        "import torch.nn as nn\n",
        "import torch.optim as optim\n",
        "import time\n",
        "import os\n",
        "from pathlib import Path\n",
        "import json\n",
        "from copy import deepcopy\n",
        "from sklearn.decomposition import PCA\n",
        "import itertools # Unused if not gridsearching\n",
        "import logging\n",
        "\n",
        "\n",
        "logging.getLogger(\"matplotlib\").setLevel(logging.CRITICAL)\n",
        "\n",
        "device = 'cpu'\n",
        "import neurogym as ngym\n",
        "\n",
        "import warnings\n",
        "\n",
        "# Suppress UserWarnings specifically from the 'gymnasium' module\n",
        "warnings.filterwarnings(\"ignore\", category=UserWarning, module=\"gymnasium\")\n",
        "\n",
        "\n",
        "import matplotlib.colors as mcolors\n",
        "import matplotlib.patches as patches\n",
        "from torch.nn import init\n",
        "from torch.nn import functional as F\n",
        "import pickle\n",
        "from google.colab import drive"
      ]
    },
    {
      "cell_type": "markdown",
      "metadata": {
        "id": "2nyWQZyrlfpT"
      },
      "source": [
        "# Helper Functions"
      ]
    },
    {
      "cell_type": "markdown",
      "metadata": {
        "id": "CpjAIYdngJ-o"
      },
      "source": [
        "## Network Structure Visualisation"
      ]
    },
    {
      "cell_type": "code",
      "execution_count": null,
      "metadata": {
        "id": "3ZPFKsEBgMsl"
      },
      "outputs": [],
      "source": [
        "\n",
        "\n",
        "def plot_weights_heatmap(weights_tensor, title, from_label, to_label, filename=None, highlight_diagonal=False):\n",
        "    \"\"\"\n",
        "    Generates a flexible heatmap for any given weight matrix from a PyTorch model.\n",
        "\n",
        "    Args:\n",
        "        weights_tensor (torch.Tensor): The weight tensor to plot (e.g., from a nn.Linear layer).\n",
        "        title (str): The title for the plot.\n",
        "        from_label (str): The label for the x-axis ('From' units).\n",
        "        to_label (str): The label for the y-axis ('To' units).\n",
        "        filename (str, optional): File path to save the figure. If None, displays the plot. Defaults to None.\n",
        "        highlight_diagonal (bool, optional): If True and the matrix is square, highlights the diagonal.\n",
        "                                             Defaults to False.\n",
        "    \"\"\"\n",
        "    # 1. Detach tensor from the computation graph and move to CPU as a NumPy array.\n",
        "    weights = weights_tensor.detach().cpu().numpy()\n",
        "\n",
        "    to_units, from_units = weights.shape\n",
        "\n",
        "    # 2. Determine the symmetric colour range for consistency.\n",
        "    max_abs_val = np.max(np.abs(weights))\n",
        "    # Handle the case where all weights are zero to avoid a warning.\n",
        "    if max_abs_val == 0:\n",
        "        max_abs_val = 1\n",
        "    norm = mcolors.Normalize(vmin=-max_abs_val, vmax=max_abs_val)\n",
        "\n",
        "    # 3. Create the plot.\n",
        "    fig, ax = plt.subplots(figsize=(12, 10))\n",
        "    im = ax.imshow(weights, cmap='bwr', norm=norm, interpolation='none', aspect='auto')\n",
        "\n",
        "    # 4. Configure the colour bar.\n",
        "    cbar = fig.colorbar(im, ax=ax, shrink=0.8)\n",
        "    cbar.set_label('Connection Weight', rotation=270, labelpad=20, fontsize=12)\n",
        "\n",
        "    # 5. Configure axes and labels using the provided arguments.\n",
        "    ax.set_title(title, fontsize=16, pad=20)\n",
        "    ax.set_ylabel(to_label, fontsize=12)\n",
        "    ax.set_xlabel(from_label, fontsize=12)\n",
        "\n",
        "    # 6. Configure ticks.\n",
        "    # We can't label every tick for large matrices, so we'll label every 5th or 10th.\n",
        "    tick_step = max(1, from_units // 10)\n",
        "    ax.set_xticks(np.arange(0, from_units, tick_step))\n",
        "    ax.set_yticks(np.arange(0, to_units, tick_step))\n",
        "    ax.tick_params(axis='x', labelsize=10)\n",
        "    ax.tick_params(axis='y', labelsize=10)\n",
        "\n",
        "    # 7. Add internal grid lines and borders.\n",
        "    ax.set_xticks(np.arange(-.5, from_units, 1), minor=True)\n",
        "    ax.set_yticks(np.arange(-.5, to_units, 1), minor=True)\n",
        "    ax.grid(which='minor', color='gray', linestyle='-', linewidth=0.25, alpha=0.5)\n",
        "    ax.tick_params(which='minor', bottom=False, left=False)\n",
        "\n",
        "    # Add a border for the diagonal cells only if the matrix is square and requested.\n",
        "    if from_units == to_units and highlight_diagonal:\n",
        "        for i in range(from_units):\n",
        "            rect = patches.Rectangle(\n",
        "                (i - 0.5, i - 0.5), 1, 1,\n",
        "                linewidth=0.75, edgecolor='black', facecolor='none', alpha=0.7\n",
        "            )\n",
        "            ax.add_patch(rect)\n",
        "\n",
        "    fig.tight_layout(pad=1.5)\n",
        "\n",
        "    # 8. Save or display the figure.\n",
        "    if filename:\n",
        "        plt.savefig(filename, dpi=300, bbox_inches='tight')\n",
        "        print(f\"Figure saved to {filename}\")\n",
        "        plt.close(fig)\n",
        "    else:\n",
        "        plt.show()"
      ]
    },
    {
      "cell_type": "markdown",
      "metadata": {
        "id": "v0KWXphJzZUD"
      },
      "source": [
        "# NeuroGym Task - Delay Match Sample (32D / Distractor 32D) - EDA"
      ]
    },
    {
      "cell_type": "markdown",
      "metadata": {
        "id": "MSEwzSzr22zt"
      },
      "source": [
        "## Delay Match Sample Distractor"
      ]
    },
    {
      "cell_type": "markdown",
      "metadata": {
        "id": "BqYZ7sLz22zv"
      },
      "source": [
        "EDA on the DelayMatchSample 1D task with new added changes:\n",
        "- Sample stim is selected from the arrangement of evenly spaced theta values (our input dimensions)\n",
        "- Test stims where not matching are selected from the same arrangement of theta but without the sample instead of a random sampled theta\n",
        "- Ability to use input noise via sigma\n",
        "- Ability to use any value for dim ring"
      ]
    },
    {
      "cell_type": "code",
      "execution_count": null,
      "metadata": {
        "colab": {
          "base_uri": "https://localhost:8080/"
        },
        "id": "Wl6Epmjf22zw",
        "outputId": "a0fa2004-7804-454d-85a2-83e2b7ebfa71"
      },
      "outputs": [
        {
          "output_type": "stream",
          "name": "stdout",
          "text": [
            "Sequence length is 106\n"
          ]
        }
      ],
      "source": [
        "timing_eda_0 = {\n",
        "            'fixation': 300,\n",
        "            'sample': 500,\n",
        "            'delay1': 1000,\n",
        "            'test1': 500,\n",
        "            'delay2': 1000,\n",
        "            'test2': 500,\n",
        "            'delay3': 1000,\n",
        "            'test3': 500}\n",
        "# training_timings = {\n",
        "#             'fixation': 500,\n",
        "#             'sample': ('choice', (400, 600, 800, 900)),\n",
        "#             'delay1': ('choice', (400, 600, 800, 900)),\n",
        "#             'test1': ('choice', (400, 600, 800, 900)),\n",
        "#             'delay2': ('choice', (400, 600, 800, 900)),\n",
        "#             'test2': ('choice', (400, 600, 800, 900)),\n",
        "#             'delay3': ('choice', (400, 600, 800, 900)),\n",
        "#             'test3': ('choice', (400, 600, 800, 900))}\n",
        "# Assign Time step size and calculate sequence length of a full trial\n",
        "\n",
        "\n",
        "time_step_eda_0 = 50 #ms\n",
        "\n",
        "length_of_trial = sum(timing_eda_0.values())\n",
        "sequence_length_eda_0 = int(length_of_trial / time_step_eda_0)\n",
        "print(f'Sequence length is {sequence_length_eda_0}')\n",
        "batch_size_eda_0 = 2\n",
        "task_name_eda_0 = 'DelayMatchSampleDistractor1D-v0'\n",
        "\n",
        "kwargs_eda_0 = {'dt' : time_step_eda_0, 'timing': timing_eda_0, 'sigma': 0.05, 'dim_ring':32}\n",
        "\n",
        "dataset_eda_0 = ngym.Dataset(task_name_eda_0, env_kwargs=kwargs_eda_0, batch_size=batch_size_eda_0) # Can pass env_kwargs = kwargs if need to pass kwargs\n",
        "\n",
        "# dataset docstring says ; sequence length , batch size , input/output unit (size).\n",
        "## Do we want to change this ordering? (I seem to remember batch first being an issue?)\n"
      ]
    },
    {
      "cell_type": "code",
      "execution_count": null,
      "metadata": {
        "id": "h0b7IOJn22zy"
      },
      "outputs": [],
      "source": [
        "\n",
        "env_eda_0 = dataset_eda_0.env\n"
      ]
    },
    {
      "cell_type": "code",
      "execution_count": null,
      "metadata": {
        "colab": {
          "base_uri": "https://localhost:8080/"
        },
        "id": "ml7yBA6h22zz",
        "outputId": "b96cf67e-474f-42f0-f2e8-0daf651b6642"
      },
      "outputs": [
        {
          "output_type": "stream",
          "name": "stdout",
          "text": [
            "Output size is 2\n",
            "Input has shape (SeqLen, Batch, Dim) = torch.Size([1000, 2, 33])\n",
            "Target has shape (SeqLen, Batch) = torch.Size([1000, 2])\n"
          ]
        }
      ],
      "source": [
        "\n",
        "inputs_eda_0, targets_eda_0 = dataset_eda_0()\n",
        "\n",
        "\n",
        "inputs_eda_0 = torch.from_numpy(inputs_eda_0).type(torch.float)\n",
        "targets_eda_0 = torch.from_numpy(targets_eda_0).type(torch.float)\n",
        "# Visualise environment w sample trials in the same way as they do in the NGym Environment Docs\n",
        "\n",
        "# _ = ngym.utils.plot_env(env_eda_0, num_trials=1)\n",
        "\n",
        "input_size_eda_0 = env_eda_0.observation_space.shape[0]\n",
        "output_size_eda_0 = env_eda_0.action_space.n\n",
        "print(f'Output size is {output_size_eda_0}')\n",
        "print('Input has shape (SeqLen, Batch, Dim) =', inputs_eda_0.shape)\n",
        "print('Target has shape (SeqLen, Batch) =', targets_eda_0.shape) # = index of output layer unit that should be most active"
      ]
    },
    {
      "cell_type": "code",
      "execution_count": null,
      "metadata": {
        "colab": {
          "base_uri": "https://localhost:8080/",
          "height": 1000
        },
        "id": "VCT1UL8D22z0",
        "outputId": "9ac57d94-f3c5-460a-92fc-c4485e60fb8a"
      },
      "outputs": [
        {
          "output_type": "display_data",
          "data": {
            "text/plain": [
              "<Figure size 1200x600 with 1 Axes>"
            ],
            "image/png": "[encoded data removed]"
          },
          "metadata": {}
        },
        {
          "output_type": "display_data",
          "data": {
            "text/plain": [
              "<Figure size 1200x600 with 1 Axes>"
            ],
            "image/png": "[encoded data removed]"
          },
          "metadata": {}
        }
      ],
      "source": [
        "\n",
        "# Select one batch (e.g., the first batch, index 0)\n",
        "batch_index = 0\n",
        "n = 2\n",
        "m = n -1\n",
        "# Plot inputs for the selected batch\n",
        "plt.figure(figsize=(12, 6))\n",
        "plt.plot(inputs_eda_0[sequence_length_eda_0*m:sequence_length_eda_0*n, batch_index, :].numpy())\n",
        "plt.title(f'Inputs for Batch {batch_index}')\n",
        "plt.xlabel('Time Step')\n",
        "plt.ylabel('Input Value')\n",
        "# plt.legend(['Fixation Input']+[f'Input Dimension {i+1}' for i in range(1,inputs_eda_0.shape[2]-1)])\n",
        "plt.show()\n",
        "\n",
        "# Plot targets for the selected batch\n",
        "plt.figure(figsize=(12, 6))\n",
        "plt.plot(targets_eda_0[sequence_length_eda_0*m:sequence_length_eda_0*n, batch_index].numpy())\n",
        "plt.title(f'Targets for Batch {batch_index}')\n",
        "plt.xlabel('Time Step')\n",
        "plt.ylabel('Target Value')\n",
        "plt.show()"
      ]
    },
    {
      "cell_type": "code",
      "execution_count": null,
      "metadata": {
        "colab": {
          "base_uri": "https://localhost:8080/"
        },
        "id": "nT5HkEsR22z1",
        "outputId": "dca573fe-5017-42de-d7bf-8d054e8e2ba2"
      },
      "outputs": [
        {
          "output_type": "stream",
          "name": "stdout",
          "text": [
            "{'ground_truth': np.int64(3), 'sample': np.float64(5.105088062083414), 'test1': np.float64(0.5890486225480862), 'test2': np.float64(3.730641276137879), 'test3': np.float64(5.105088062083414)}\n"
          ]
        }
      ],
      "source": [
        "env_eda_0 = dataset_eda_0.env\n",
        "trial_info = env_eda_0.new_trial()\n",
        "print(trial_info)"
      ]
    },
    {
      "cell_type": "code",
      "execution_count": null,
      "metadata": {
        "id": "Qf1y0Igv22z2"
      },
      "outputs": [],
      "source": [
        "observations_eda_0, targets_eda_0 = env_eda_0.ob, env_eda_0.gt"
      ]
    },
    {
      "cell_type": "code",
      "execution_count": null,
      "metadata": {
        "colab": {
          "base_uri": "https://localhost:8080/"
        },
        "id": "qZfpYgnp22z2",
        "outputId": "6baebd0a-d7ab-4fa5-d36f-a5b2289f780f"
      },
      "outputs": [
        {
          "output_type": "stream",
          "name": "stdout",
          "text": [
            "(106, 33)\n",
            "<class 'numpy.ndarray'>\n"
          ]
        }
      ],
      "source": [
        "print(observations_eda_0.shape)\n",
        "print(type(observations_eda_0))"
      ]
    },
    {
      "cell_type": "code",
      "execution_count": null,
      "metadata": {
        "colab": {
          "base_uri": "https://localhost:8080/"
        },
        "id": "llYLvl0y22z3",
        "outputId": "f020b4ba-a840-4604-a66f-39661e419f79"
      },
      "outputs": [
        {
          "output_type": "stream",
          "name": "stdout",
          "text": [
            "(106,)\n"
          ]
        }
      ],
      "source": [
        "print(targets_eda_0.shape)"
      ]
    },
    {
      "cell_type": "code",
      "execution_count": null,
      "metadata": {
        "colab": {
          "base_uri": "https://localhost:8080/",
          "height": 1000
        },
        "id": "VAAhIi6r22z4",
        "outputId": "e4ca5635-90f2-4f9e-9873-16212d666e38"
      },
      "outputs": [
        {
          "output_type": "display_data",
          "data": {
            "text/plain": [
              "<Figure size 1200x600 with 1 Axes>"
            ],
            "image/png": "[encoded data removed]"
          },
          "metadata": {}
        },
        {
          "output_type": "display_data",
          "data": {
            "text/plain": [
              "<Figure size 1200x600 with 1 Axes>"
            ],
            "image/png": "[encoded data removed]"
          },
          "metadata": {}
        }
      ],
      "source": [
        "# Plot inputs for the selected batch\n",
        "plt.figure(figsize=(12, 6))\n",
        "plt.plot(observations_eda_0[:, :])\n",
        "plt.title(f'Inputs for Batch {batch_index}')\n",
        "plt.xlabel('Time Step')\n",
        "plt.ylabel('Input Value')\n",
        "# plt.legend(['Fixation Input']+[f'Input Dimension {i+1}' for i in range(1,inputs_eda_0.shape[2]-1)])\n",
        "plt.show()\n",
        "\n",
        "# Plot targets for the selected batch\n",
        "plt.figure(figsize=(12, 6))\n",
        "plt.plot(targets_eda_0[:, np.newaxis])\n",
        "plt.title(f'Targets for Batch {batch_index}')\n",
        "plt.xlabel('Time Step')\n",
        "plt.ylabel('Target Value')\n",
        "plt.show()"
      ]
    },
    {
      "cell_type": "markdown",
      "metadata": {
        "id": "nZ-i0wtRR0If"
      },
      "source": [
        "# ----- ONLY LOCATION WE Set Up Dataset -----"
      ]
    },
    {
      "cell_type": "markdown",
      "metadata": {
        "id": "pXn5U2ZW6z-3"
      },
      "source": [
        "# BRINGING IN DEVELOPED DATA LOADER FUNCTIONS"
      ]
    },
    {
      "cell_type": "markdown",
      "metadata": {
        "id": "BMdRwb3f13Le"
      },
      "source": [
        "# ----- Developed Data Loader and Loss Masking -----"
      ]
    },
    {
      "cell_type": "code",
      "execution_count": null,
      "metadata": {
        "id": "x-MFqI_d14z3"
      },
      "outputs": [],
      "source": [
        "# make however first, then see if we can split it up so that elements that are invariant across a training process can be separated (for efficiency)\n",
        "def data_loader_abba(dataset_environment, batch_size, decision_grace_period=3, distractor_task=True):\n",
        "\n",
        "  ### DETERMINE DIMENSIONS FOR INPUT / OUTPUT TENSORS\n",
        "\n",
        "  # DETERMINE MAX SEQ LEN FROM ENV.TIMING\n",
        "  env_timing_dict = dataset_environment.timing\n",
        "  max_seq_len = int(max_seq_len_from_env_timing(env_timing_dict)/dataset_environment.dt)\n",
        "  # print(f'Max sequence length is {max_seq_len}')\n",
        "  # DETERMINE OTHER DIMENSIONS (INPUT SIZE OUTPUT SIZE ETC)\n",
        "  input_size = dataset_environment.observation_space.shape[0] if len(dataset_environment.observation_space.shape) > 0 else 1 # Handling for 1d input vs multi dim\n",
        "  # print(f'Input size is {input_size}')\n",
        "  output_size = dataset_environment.action_space.shape[0] if len(dataset_environment.action_space.shape) > 0 else 1 # Handling for 1d input vs multi dim\n",
        "  # print(f'Output size is {output_size}')\n",
        "\n",
        "  # For the ground truth attention map\n",
        "  dim_ring = dataset_environment.dim_ring # Get dim_ring from the env\n",
        "\n",
        "  # HAVE BATCH SIZE, OBSERVATION SIZE, OUTPUT SIZE  (ALL WE NEED TO ITERATIVELY CREATE NEW TENSORS) (ACTUALLY, LETS MAKE THE WHOLE BATCH NOW AND JUST EDIT IN LOOP)\n",
        "\n",
        "  OBSERVATION_TENSOR = torch.zeros((max_seq_len, batch_size, input_size))\n",
        "  GROUND_TRUTH_TENSOR = torch.zeros((max_seq_len, batch_size, output_size))\n",
        "  TASK_LOSS_MASK = torch.zeros((max_seq_len, batch_size))\n",
        "  ATTENTION_MAP_MASK = torch.zeros((max_seq_len, batch_size))\n",
        "  L2A_LOSS_MASK = torch.zeros((max_seq_len, batch_size))\n",
        "\n",
        "  ATTENTION_TARGET_MAP_TENSOR = torch.zeros((batch_size, input_size - 1)) # Assuming input_size includes fixation bit (we will handle for the various handling options of fixation)\n",
        "\n",
        "  # For the ground truth attention map\n",
        "  dim_ring = dataset_environment.dim_ring # Get dim_ring from the env\n",
        "\n",
        "  for batch_p in range(batch_size):\n",
        "    trial_info_p = dataset_environment.new_trial()\n",
        "    '''\n",
        "    trial_info_p is dict like: (FOR DMSD)\n",
        "    {'ground_truth': np.int64(1),\n",
        "    'sample': np.float64(1.9634954084936207),\n",
        "    'test1': np.float64(1.9634954084936207),\n",
        "    'test2': np.float64(5.497787143782138),\n",
        "    'test3': np.float64(4.71238898038469)}\n",
        "    '''\n",
        "\n",
        "    observations_batch_p, targets_batch_p = dataset_environment.ob, dataset_environment.gt\n",
        "\n",
        "\n",
        "    task_trial_length = observations_batch_p.shape[0]\n",
        "    # FILL DATA IN THE MAIN TENSOR\n",
        "    OBSERVATION_TENSOR[:task_trial_length, batch_p, :] = torch.from_numpy(observations_batch_p).type(torch.float)\n",
        "    GROUND_TRUTH_TENSOR[:task_trial_length, batch_p, :] = torch.from_numpy(targets_batch_p[:,np.newaxis]).type(torch.int)\n",
        "\n",
        "    # Creating the \"ground truth\" attention map\n",
        "    sample_theta = trial_info_p['sample']\n",
        "\n",
        "    target_map = create_target_attention_map(sample_theta, dim_ring, device=OBSERVATION_TENSOR.device)\n",
        "\n",
        "    # Now move onto Loss Masking:\n",
        "\n",
        "    # Obtain start end inds\n",
        "    start_ind_dict = dataset_environment.start_ind\n",
        "    end_ind_dict = dataset_environment.end_ind\n",
        "\n",
        "    # Component Function (so we can easily edit the loss masking approach and use for different trials)\n",
        "    # then we have 1 argument which is distractor_task = True or False -> Changes loss mask construction\n",
        "    # passing:  task_trial_length, start_ind_dict, end_ind_dict, trial_info_p, decision_grace_period, distractor_task\n",
        "\n",
        "    task_loss_mask_p, attention_map_loss_mask_p, L2A_loss_mask_p = loss_mask_construction(task_trial_length, start_ind_dict, end_ind_dict, trial_info_p, distractor_task=distractor_task, grace_period=decision_grace_period)\n",
        "\n",
        "\n",
        "\n",
        "    # Populate masks with results of function (note hacky dimensionality handling since we are technically specifying a 1 dim to fill and providing a 2 dim (so we make it an artifical 2 dim to fill))\n",
        "    TASK_LOSS_MASK[:task_trial_length, batch_p:batch_p+1] = torch.from_numpy(task_loss_mask_p).type(torch.int)\n",
        "    ATTENTION_MAP_MASK[:task_trial_length, batch_p:batch_p+1] = torch.from_numpy(attention_map_loss_mask_p).type(torch.int)\n",
        "    L2A_LOSS_MASK[:task_trial_length, batch_p:batch_p+1] = torch.from_numpy(L2A_loss_mask_p).type(torch.int)\n",
        "    ATTENTION_TARGET_MAP_TENSOR[batch_p, :] = target_map\n",
        "\n",
        "\n",
        "  return (OBSERVATION_TENSOR, GROUND_TRUTH_TENSOR,\n",
        "            TASK_LOSS_MASK, ATTENTION_MAP_MASK,\n",
        "            ATTENTION_TARGET_MAP_TENSOR, L2A_LOSS_MASK)"
      ]
    },
    {
      "cell_type": "code",
      "execution_count": null,
      "metadata": {
        "id": "eU8pi-EG5PTN"
      },
      "outputs": [],
      "source": [
        "# Component function to determine max possible timing from an env dict\n",
        "def max_seq_len_from_env_timing(env_timing_dict):\n",
        "\n",
        "  max_period_lengths = []\n",
        "\n",
        "  for key, value in env_timing_dict.items():\n",
        "    # print(f\"{key}: {value}\")\n",
        "    # print(f\"{type(value)}\")\n",
        "    if isinstance(value, int):\n",
        "      max_period_lengths.append(value)\n",
        "      continue\n",
        "    elif isinstance(value, tuple):\n",
        "      max_period_lengths.append(max(value[1]))\n",
        "      continue\n",
        "  return sum(max_period_lengths)\n"
      ]
    },
    {
      "cell_type": "code",
      "execution_count": null,
      "metadata": {
        "id": "ScGHJSQUAti1"
      },
      "outputs": [],
      "source": [
        "def loss_mask_construction(task_trial_length, start_ind_dict, end_ind_dict, trial_info_p, distractor_task=True, grace_period=1):\n",
        "  task_loss_mask = np.ones((task_trial_length,1))\n",
        "  attention_map_loss_mask = np.zeros((task_trial_length,1))\n",
        "  L2A_loss_mask = np.ones((task_trial_length,1))\n",
        "\n",
        "  gt_test_period_str = f\"test{int(trial_info_p['ground_truth'])}\"\n",
        "  gt_test_period_end_ind = end_ind_dict[gt_test_period_str]\n",
        "\n",
        "  if distractor_task:\n",
        "    #Attention Map Loss Mask (and task loss grace (reduce iterations))\n",
        "    test_period_strs = ['test1', 'test2', 'test3']\n",
        "\n",
        "    for test_period_str in test_period_strs:\n",
        "      test_period_start_ind = start_ind_dict[test_period_str]\n",
        "      test_period_end_ind = end_ind_dict[test_period_str]\n",
        "      if test_period_start_ind > gt_test_period_end_ind:\n",
        "        break\n",
        "      else:\n",
        "        attention_map_loss_mask[test_period_start_ind:test_period_end_ind,0] = 1\n",
        "        if grace_period:\n",
        "          task_loss_mask[test_period_start_ind:(test_period_start_ind+grace_period),0] = 0 # ToDo: Different approaches to grace period re degree of masking\n",
        "\n",
        "    # Set to 0 beyond gt test period\n",
        "    task_loss_mask[gt_test_period_end_ind:,0] = 0\n",
        "    L2A_loss_mask[gt_test_period_end_ind:,0] = 0\n",
        "\n",
        "\n",
        "\n",
        "  return task_loss_mask, attention_map_loss_mask, L2A_loss_mask\n",
        "\n",
        "\n",
        "\n"
      ]
    },
    {
      "cell_type": "code",
      "execution_count": null,
      "metadata": {
        "id": "eWm3eJ9Q1Fy4"
      },
      "outputs": [],
      "source": [
        "def create_target_attention_map(sample_theta, dim_ring=32, device='cpu', fixation=True):\n",
        "    # moved outside of the data loader function in case need to change approach\n",
        "    \"\"\"\n",
        "    Generates the noise-free cosine encoding for a given sample theta value.\n",
        "\n",
        "    Args:\n",
        "        sample_theta (float): The ground truth angle of the sample stimulus.\n",
        "        dim_ring (int): The number of dimensions in the stimulus encoding.\n",
        "        device (torch.device): The device to create the tensor on.\n",
        "\n",
        "    Returns:\n",
        "        torch.Tensor: The target attention map of shape (1, dim_ring).\n",
        "    \"\"\"\n",
        "\n",
        "    # Create the array of angles for each dimension\n",
        "    theta_dims = np.linspace(0, 2 * np.pi, dim_ring, endpoint=False)\n",
        "\n",
        "    # Calculate the cosine encoding (the same formula from neurogym)\n",
        "    encoding = np.cos(theta_dims - sample_theta) * 0.5 + 0.5\n",
        "\n",
        "    # Convert to a PyTorch tensor and add a batch dimension\n",
        "    target_map = torch.from_numpy(encoding).float().unsqueeze(0).to(device)\n",
        "\n",
        "    return target_map"
      ]
    },
    {
      "cell_type": "code",
      "execution_count": null,
      "metadata": {
        "id": "NSQuXL3WHuDy"
      },
      "outputs": [],
      "source": [
        "# #testing\n",
        "# time_start = time.time()\n",
        "# (observation_tensor_test, ground_truth_tensor_test, task_loss_mask_test, attention_map_loss_mask_test, attention_target_map_tensor_test) = data_loader_abba(dataset_environment=env_eda_1, batch_size=64, decision_grace_period=3, distractor_task=True)\n",
        "# time_end = time.time()\n",
        "# print(f' Data Loaded in {time_end-time_start}')"
      ]
    },
    {
      "cell_type": "code",
      "execution_count": null,
      "metadata": {
        "id": "dl3g0bUcKFJK"
      },
      "outputs": [],
      "source": [
        "# dont think it could handle DMS standard rn\n",
        "# it would need:\n",
        "# different loss masking (no task loss masking, just attention map masking)\n",
        "# would be pretty easy to do\n"
      ]
    },
    {
      "cell_type": "markdown",
      "metadata": {
        "id": "Uh74NEEEknJ6"
      },
      "source": [
        "# ----- Loss Calculation & Testing Trial Outcome ------"
      ]
    },
    {
      "cell_type": "markdown",
      "metadata": {
        "id": "XG1s8ScVkqhh"
      },
      "source": [
        "### Losses Calculator Function"
      ]
    },
    {
      "cell_type": "code",
      "execution_count": null,
      "metadata": {
        "id": "dVjs42NUnGw_"
      },
      "outputs": [],
      "source": [
        "\n",
        "\n",
        "def calculate_total_loss(task_outputs, attention_map_outputs, ground_truth_tensor,\n",
        "                         task_loss_mask, attention_map_loss_mask,\n",
        "                         attention_target_map, attention_loss_weight=0.1):\n",
        "    \"\"\"\n",
        "    Calculates the combined task and attention loss for a batch of trials.\n",
        "\n",
        "    Args:\n",
        "        task_outputs (torch.Tensor): The decision output from the network\n",
        "                                     (seq_len, batch_size, output_size).\n",
        "        attention_map_outputs (torch.Tensor): The attention map from the network\n",
        "                                              (seq_len, batch_size, attention_dim).\n",
        "        ground_truth_tensor (torch.Tensor): The ground truth actions for the trials\n",
        "                                            (seq_len, batch_size, 1).\n",
        "        task_loss_mask (torch.Tensor): Mask to apply loss only on relevant time steps\n",
        "                                       for the task (seq_len, batch_size).\n",
        "        attention_map_loss_mask (torch.Tensor): Mask for attention loss (seq_len, batch_size).\n",
        "        attention_target_map (torch.Tensor): The target encoding for the attention map\n",
        "                                             (batch_size, attention_dim).\n",
        "        attention_loss_weight (float): The weighting factor (gamma) for the attention loss.\n",
        "\n",
        "    Returns:\n",
        "        torch.Tensor: The final scalar loss value for the batch.\n",
        "    \"\"\"\n",
        "    task_loss = torch.tensor(0.0)\n",
        "    weighted_attention_loss = torch.tensor(0.0)\n",
        "\n",
        "    # --- 1. Calculate the Primary Task Loss (e.g., Cross-Entropy) ---\n",
        "\n",
        "    # Reshape tensors for the loss function\n",
        "    # The output should be (N, C) where C is number of classes\n",
        "    # The target should be (N)\n",
        "\n",
        "    task_outputs_flat = task_outputs.view(-1, task_outputs.shape[-1])\n",
        "    ground_truth_flat = ground_truth_tensor.view(-1).long()\n",
        "    task_loss_mask_flat = task_loss_mask.view(-1)\n",
        "\n",
        "    # Use 'reduction=\"none\"' to get a loss value for each element\n",
        "    loss_fn_task = nn.CrossEntropyLoss(reduction='none')\n",
        "\n",
        "    # Calculate the raw, unmasked loss\n",
        "    raw_task_loss = loss_fn_task(task_outputs_flat, ground_truth_flat)\n",
        "\n",
        "    # Apply the mask and calculate the mean loss over valid time steps\n",
        "    masked_task_loss = raw_task_loss * task_loss_mask_flat\n",
        "    task_loss = masked_task_loss.sum() / (task_loss_mask_flat.sum() + 1e-8) # Add epsilon for safety\n",
        "\n",
        "    if attention_loss_weight > 0 and attention_map_outputs is not None:\n",
        "        # Reshape and expand the target map to match the network's output\n",
        "        target_expanded = attention_target_map.unsqueeze(0).expand_as(attention_map_outputs)\n",
        "\n",
        "        loss_fn_attn = nn.MSELoss(reduction='none')\n",
        "\n",
        "        # Calculate raw MSE for every element\n",
        "        raw_attn_loss = loss_fn_attn(attention_map_outputs, target_expanded)\n",
        "\n",
        "        # We need to average over the feature dimension (dim=2) first\n",
        "        raw_attn_loss_per_step = raw_attn_loss.mean(dim=2) # Shape becomes (seq_len, batch_size)\n",
        "\n",
        "        # Apply the time mask\n",
        "        masked_attn_loss = raw_attn_loss_per_step * attention_map_loss_mask\n",
        "\n",
        "        attention_loss = masked_attn_loss.sum() / (attention_map_loss_mask.sum() + 1e-8)\n",
        "\n",
        "        # Weight the attention loss (for returning)\n",
        "        weighted_attention_loss = attention_loss_weight * attention_loss\n",
        "\n",
        "        # --- 3. Combine the Losses ---\n",
        "\n",
        "\n",
        "    total_loss = task_loss + weighted_attention_loss\n",
        "\n",
        "\n",
        "\n",
        "    return total_loss, task_loss, weighted_attention_loss"
      ]
    },
    {
      "cell_type": "markdown",
      "source": [
        "### Evaluate Trial Outcome DMSD"
      ],
      "metadata": {
        "id": "x21VvAKgxscl"
      }
    },
    {
      "cell_type": "code",
      "execution_count": null,
      "metadata": {
        "id": "XtmfDOZUtfP_"
      },
      "outputs": [],
      "source": [
        "\n",
        "\n",
        "def validate_trial_final(task_output_trial, trial_info, start_ind_dict, end_ind_dict, num_last_steps_to_check=3):\n",
        "    \"\"\"\n",
        "    Validates a trial using the final proposed logic:\n",
        "    1. No 'MATCH' responses are allowed during ANY non-matching test period.\n",
        "    2. The last N responses of the correct MATCH period must all be 'MATCH'.\n",
        "\n",
        "    Args:\n",
        "        task_output_trial (np.array): The decision output for a single trial\n",
        "                                      (seq_len, output_size).\n",
        "        trial_info (dict): The dictionary containing ground truth for the trial.\n",
        "        start_ind_dict (dict): Dictionary of start indices for each trial period.\n",
        "        end_ind_dict (dict): Dictionary of end indices for each trial period.\n",
        "        num_last_steps_to_check (int): The number of final time steps in the\n",
        "                                       ground truth period to check for a stable response.\n",
        "\n",
        "    Returns:\n",
        "        bool: True if the trial was successful, False otherwise.\n",
        "    \"\"\"\n",
        "\n",
        "    ground_truth_period_num = int(trial_info['ground_truth'])\n",
        "    MATCH_ACTION_IDX = 1\n",
        "\n",
        "    # --- 1. Check ALL non-matching test periods for premature/incorrect MATCH responses ---\n",
        "    all_test_periods = [1, 2, 3]\n",
        "    for test_period_num in all_test_periods:\n",
        "        # Skip the actual ground truth period for this check\n",
        "        if test_period_num == ground_truth_period_num:\n",
        "            continue\n",
        "\n",
        "        period_name = f'test{test_period_num}'\n",
        "        start_idx = start_ind_dict[period_name]\n",
        "        end_idx = end_ind_dict[period_name]\n",
        "\n",
        "        period_output = task_output_trial[start_idx:end_idx, :]\n",
        "\n",
        "        # Determine the response at each time step in the period\n",
        "        responses_per_timestep = np.argmax(period_output, axis=1)\n",
        "\n",
        "        # If ANY response in this non-matching period was a MATCH, it's a failure\n",
        "        if np.any(responses_per_timestep == MATCH_ACTION_IDX):\n",
        "            return False\n",
        "\n",
        "    # --- 2. If all non-matching periods are clean, check the ground truth period ---\n",
        "    gt_period_name = f'test{ground_truth_period_num}'\n",
        "    gt_start_idx = start_ind_dict[gt_period_name]\n",
        "    gt_end_idx = end_ind_dict[gt_period_name]\n",
        "\n",
        "    # Isolate the output for the last N steps of the ground truth period\n",
        "    # Ensure we don't index past the beginning of the period if it's too short\n",
        "    start_of_check = max(gt_start_idx, gt_end_idx - num_last_steps_to_check)\n",
        "    last_steps_output = task_output_trial[start_of_check:gt_end_idx, :]\n",
        "\n",
        "    # If there are no timesteps to check (e.g., a very short period), fail the trial (ERROR)\n",
        "    if last_steps_output.shape[0] == 0:\n",
        "        print('NO TIMESTEPS TO CHECK')\n",
        "        return False\n",
        "\n",
        "    # Determine the response at each of these last time steps\n",
        "    last_responses = np.argmax(last_steps_output, axis=1)\n",
        "\n",
        "    # If ALL of the last N responses were MATCH, the trial is a success\n",
        "    if np.all(last_responses == MATCH_ACTION_IDX):\n",
        "        return True\n",
        "\n",
        "    # Otherwise, the trial is a failure\n",
        "    return False"
      ]
    },
    {
      "cell_type": "markdown",
      "metadata": {
        "id": "bjC84QFirOh_"
      },
      "source": [
        "## Training Functions"
      ]
    },
    {
      "cell_type": "markdown",
      "metadata": {
        "id": "9w-RL3GHrQEt"
      },
      "source": [
        "### Validation"
      ]
    },
    {
      "cell_type": "markdown",
      "metadata": {
        "id": "IU5-AnozrTyp"
      },
      "source": [
        "### Early Stop Validation"
      ]
    },
    {
      "cell_type": "code",
      "execution_count": null,
      "metadata": {
        "id": "X_XFk4UVFuT3"
      },
      "outputs": [],
      "source": [
        "\n",
        "\n",
        "def validate_network(net, dataset, num_trials=200):\n",
        "    \"\"\"\n",
        "    Validation function (REQUIRES TASK_OUTPUTS as FIRST OF TWO returns from forward(self=net))\n",
        "    \"\"\"\n",
        "    env = dataset.env\n",
        "    env.reset()\n",
        "\n",
        "    correct_trials = 0\n",
        "    for i in range(num_trials):\n",
        "        # Sample a new trial to get all necessary info\n",
        "        trial_info = env.new_trial()\n",
        "        ob, gt = env.ob, env.gt\n",
        "\n",
        "        # Get the timing info for this specific trial\n",
        "        start_ind_dict = env.start_ind\n",
        "        end_ind_dict = env.end_ind\n",
        "\n",
        "        # Convert to tensor for the network\n",
        "        inputs = torch.from_numpy(ob[:, np.newaxis, :]).type(torch.float).to(device)\n",
        "\n",
        "        # --- ESSENTIAL CHANGE ---\n",
        "        # The model now returns task_outputs and attention_maps. We only need the first for validation.\n",
        "        task_outputs, _ = net(inputs)\n",
        "\n",
        "        # Detach and convert to numpy for validation\n",
        "        task_outputs_np = task_outputs.detach().cpu().numpy()[:, 0, :]\n",
        "\n",
        "        # Use the final validation logic we developed\n",
        "        is_correct = validate_trial_final(\n",
        "            task_outputs_np,\n",
        "            trial_info,\n",
        "            start_ind_dict,\n",
        "            end_ind_dict\n",
        "        )\n",
        "\n",
        "        if is_correct:\n",
        "            correct_trials += 1\n",
        "\n",
        "    # Calculate average performance\n",
        "    avg_performance = correct_trials / num_trials\n",
        "\n",
        "    return avg_performance\n"
      ]
    },
    {
      "cell_type": "code",
      "source": [
        "def early_stop_validation(model_in_training, validation_set_dict, validation_trials=200):\n",
        "    \"\"\"Early stopping wrapper function\"\"\"\n",
        "    performance_dict = {}\n",
        "    for dataset_name, dataset in validation_set_dict.items():\n",
        "        # Call the new adapted validation function\n",
        "        avg_trial_performance_valid = validate_network(\n",
        "            model_in_training, dataset, num_trials=validation_trials\n",
        "        )\n",
        "        performance_dict[dataset_name] = avg_trial_performance_valid\n",
        "    return performance_dict"
      ],
      "metadata": {
        "id": "AINAjsEZxcpm"
      },
      "execution_count": null,
      "outputs": []
    },
    {
      "cell_type": "markdown",
      "source": [
        "### L2 Activity Function"
      ],
      "metadata": {
        "id": "GZn91zZi64hI"
      }
    },
    {
      "cell_type": "code",
      "source": [
        "import torch\n",
        "\n",
        "def calculate_activity_loss(activity_tuple, activity_beta):\n",
        "    \"\"\"\n",
        "    Calculates the total L2 activity penalty for a tuple of recurrent layer outputs.\n",
        "\n",
        "    Args:\n",
        "        activity_tuple (tuple of torch.Tensor): A tuple containing the activity tensors\n",
        "                                                 (e.g., firing rates) from one or more\n",
        "                                                 recurrent layers. Each tensor should have\n",
        "                                                 shape (seq_len, batch_size, hidden_size).\n",
        "        activity_beta (float): The regularization coefficient (lambda) to scale the loss.\n",
        "\n",
        "    Returns:\n",
        "        torch.Tensor: A scalar tensor representing the total L2 activity loss,\n",
        "                      ready to be added to the main loss function.\n",
        "    \"\"\"\n",
        "    # Initialise the total loss as a zero tensor on the correct device\n",
        "    # We get the device from the first tensor in the tuple\n",
        "    total_activity_loss = torch.tensor(0.0, device=activity_tuple[0].device)\n",
        "\n",
        "    # Iterate through each layer's activity tensor provided in the tuple\n",
        "    for activity_tensor in activity_tuple:\n",
        "        # Calculate the L2 penalty for the current tensor: the mean of the squared activity\n",
        "        # This encourages the network to keep firing rates low on average.\n",
        "        l2_activity = torch.mean(activity_tensor**2)\n",
        "\n",
        "        # Add the loss for this layer to the total\n",
        "        total_activity_loss += l2_activity\n",
        "\n",
        "    # Scale the final summed loss by the beta coefficient\n",
        "    return activity_beta * total_activity_loss"
      ],
      "metadata": {
        "id": "6jZNkB7v66bd"
      },
      "execution_count": null,
      "outputs": []
    },
    {
      "cell_type": "code",
      "source": [
        "### UPDATE FOR MASKING - HOW STUPID I WAS\n",
        "\n",
        "def calculate_activity_loss(activity_tuple, activity_beta, loss_mask):\n",
        "    \"\"\"\n",
        "    Calculates the total L2 activity penalty using a mask to correctly handle\n",
        "    variable-length trials with padding.\n",
        "\n",
        "    Args:\n",
        "        activity_tuple (tuple of torch.Tensor): A tuple containing the activity tensors\n",
        "                                                 from one or more recurrent layers.\n",
        "        activity_beta (float): The regularization coefficient.\n",
        "        loss_mask (torch.Tensor): A mask of shape (seq_len, batch_size) that is 1 for\n",
        "                                  active time steps and 0 for padded ones.\n",
        "\n",
        "    Returns:\n",
        "        torch.Tensor: A scalar tensor representing the correctly normalised L2 activity loss.\n",
        "    \"\"\"\n",
        "    # Get the device from the first tensor in the tuple\n",
        "    device = activity_tuple[0].device\n",
        "    total_activity_loss = torch.tensor(0.0, device=device)\n",
        "\n",
        "    # The mask needs to be expanded to match the shape of the activity tensors\n",
        "    # for element-wise multiplication. Shape: (seq_len, batch_size, 1)\n",
        "    mask_expanded = loss_mask.unsqueeze(-1)\n",
        "\n",
        "    for activity_tensor in activity_tuple:\n",
        "        # 1. Square the activity at every time step\n",
        "        squared_activity = activity_tensor**2\n",
        "\n",
        "        # 2. Apply the mask. This zeros out the activity for padded time steps.\n",
        "        # We need to expand the mask to match the hidden_size dimension.\n",
        "        masked_squared_activity = squared_activity * mask_expanded.expand_as(squared_activity)\n",
        "\n",
        "        # 3. Sum the activity and divide by the number of active time steps.\n",
        "        # This gives us the true mean squared activity, ignoring padding.\n",
        "        # Add a small epsilon to avoid division by zero on an empty mask.\n",
        "        mean_l2_activity = masked_squared_activity.sum() / (loss_mask.sum() * activity_tensor.shape[-1] + 1e-8)\n",
        "\n",
        "        total_activity_loss += mean_l2_activity\n",
        "\n",
        "    return activity_beta * total_activity_loss"
      ],
      "metadata": {
        "id": "SGTYtO1eaP0H"
      },
      "execution_count": null,
      "outputs": []
    },
    {
      "cell_type": "markdown",
      "metadata": {
        "id": "Aew1-1morVjg"
      },
      "source": [
        "### Main Training Function"
      ]
    },
    {
      "cell_type": "code",
      "execution_count": null,
      "metadata": {
        "id": "XBaEO0mOEr_3"
      },
      "outputs": [],
      "source": [
        "\n",
        "\n",
        "def training_with_early_stop_attention_nets(\n",
        "    model,\n",
        "    training_dataset,\n",
        "    validation_set_dict,\n",
        "    batch_size=64,\n",
        "    max_steps=20000,\n",
        "    min_validation_perf=0.8,\n",
        "    patience=5,\n",
        "    num_steps_for_early_stop_check=500,\n",
        "    num_validation_trials=200,\n",
        "    model_name='gated_rnn_model',\n",
        "    tr_output_mode=False,\n",
        "    attention_loss_weight=0.5, # will form around 1/6 of the total loss (guide )\n",
        "    L2A = False,\n",
        "    L2_beta = 0.035\n",
        "):\n",
        "    ### REQUIRES NET.forward TO return 2 things: outputs, attention_maps (s i.e. for whole trial)\n",
        "\n",
        "\n",
        "    # Tracking Loss\n",
        "    tr_epochs_loss, tr_total_loss = [], [] # total\n",
        "    tr_task_loss = [] # task\n",
        "    tr_attn_loss = [] # attention\n",
        "    tr_act_loss = [] # activity\n",
        "\n",
        "\n",
        "    tr_epochs_valid_perf, tr_valid_perfs_list_of_dicts, tr_valid_perfs_avg = [], [], []\n",
        "    n_steps_first_th, n_steps_final = 0, 0\n",
        "\n",
        "    # Setup\n",
        "    optimiser = optim.Adam(model.parameters(), lr=0.001)\n",
        "\n",
        "    # Loss Tracking\n",
        "    running_total_loss = 0.0\n",
        "    running_task_loss = 0.0\n",
        "    running_attn_loss = 0.0\n",
        "    running_act_loss = 0.0\n",
        "\n",
        "    start_time = time.time()\n",
        "    training_env = training_dataset.env\n",
        "\n",
        "    print('Training network...')\n",
        "\n",
        "    current_best_valid_accuracy_es = 0.0\n",
        "    current_best_valid_accuracy_all = 0.0\n",
        "    best_valid_performance_all = [0] * len(validation_set_dict)\n",
        "    best_valid_performance_es = [0] * len(validation_set_dict)\n",
        "    surpassed_threshold = False\n",
        "    current_patience = patience\n",
        "    model.train()\n",
        "    model_save_name = f'{model_name}_best.pth'\n",
        "\n",
        "    for i in range(max_steps):\n",
        "        # Data generation and training step\n",
        "        (inputs, ground_truth,\n",
        "         task_mask, attn_mask,\n",
        "         attn_target, L2A_mask) = data_loader_abba(training_env, batch_size=batch_size)\n",
        "\n",
        "        inputs, ground_truth = inputs.to(device), ground_truth.to(device)\n",
        "        task_mask, attn_mask = task_mask.to(device), attn_mask.to(device)\n",
        "        attn_target = attn_target.to(device)\n",
        "\n",
        "        optimiser.zero_grad()\n",
        "\n",
        "        if L2A:\n",
        "          task_outputs, attention_map_outputs, activity_tuple = model(inputs, track_outputs=True)\n",
        "\n",
        "        else:\n",
        "          task_outputs, attention_map_outputs = model(inputs)\n",
        "\n",
        "\n",
        "        total_loss, task_loss, weighted_attention_loss = calculate_total_loss(\n",
        "            task_outputs = task_outputs,\n",
        "            attention_map_outputs = attention_map_outputs,\n",
        "            ground_truth_tensor = ground_truth,\n",
        "            task_loss_mask = task_mask,\n",
        "            attention_map_loss_mask = attn_mask,\n",
        "            attention_target_map = attn_target,\n",
        "            attention_loss_weight=attention_loss_weight\n",
        "        )\n",
        "        if L2A:\n",
        "          activity_loss = calculate_activity_loss(activity_tuple = activity_tuple, activity_beta = L2_beta, loss_mask = L2A_mask)\n",
        "          total_loss += activity_loss\n",
        "\n",
        "\n",
        "\n",
        "        total_loss.backward()\n",
        "        torch.nn.utils.clip_grad_norm_(model.parameters(), max_norm=1.0)\n",
        "        optimiser.step()\n",
        "        running_total_loss += total_loss.item()\n",
        "        running_task_loss += task_loss.item()\n",
        "        running_attn_loss += weighted_attention_loss.item()\n",
        "        if L2A:\n",
        "          running_act_loss += activity_loss.item()\n",
        "\n",
        "\n",
        "        if i <= 1:\n",
        "          print(\"--- First Step Losses to Check Beta----\")\n",
        "          print(f\"Task Loss: {task_loss.item()}\")\n",
        "          print(f\"Weighted Attention Loss: {weighted_attention_loss.item()}\")\n",
        "          print(f\"Activity Loss: {activity_loss.item()}\") if L2A else None\n",
        "          print(f\"Total Loss: {total_loss.item()}\")\n",
        "        if i % 100 == 99:\n",
        "            running_total_loss /= 100\n",
        "            running_task_loss /= 100\n",
        "            running_attn_loss /= 100\n",
        "            if L2A:\n",
        "              running_act_loss /= 100\n",
        "\n",
        "\n",
        "            print('Step {}, Loss {:0.4f}, Time {:0.1f}s'.format(\n",
        "                i+1, running_total_loss, time.time() - start_time))\n",
        "            # Print individual loss components on the same line\n",
        "\n",
        "\n",
        "            print(f'Task Loss: {running_task_loss:.4f}, Attention Loss: {running_attn_loss:.4f}')\n",
        "            if L2A:\n",
        "              print(f'Activity Loss: {running_act_loss:.4f}')\n",
        "\n",
        "\n",
        "\n",
        "            tr_epochs_loss.append(i+1)\n",
        "            tr_total_loss.append(running_total_loss)\n",
        "            tr_task_loss.append(running_task_loss)\n",
        "            tr_attn_loss.append(running_attn_loss)\n",
        "\n",
        "            if L2A:\n",
        "              tr_act_loss.append(running_act_loss)\n",
        "\n",
        "            running_total_loss, running_task_loss, running_attn_loss = 0, 0, 0\n",
        "\n",
        "            if L2A:\n",
        "              running_act_loss = 0\n",
        "\n",
        "\n",
        "        if (i + 1) % num_steps_for_early_stop_check == 0:\n",
        "            model.eval()\n",
        "            with torch.no_grad():\n",
        "                current_perf_dict = early_stop_validation(\n",
        "                    model, validation_set_dict, num_validation_trials\n",
        "                )\n",
        "\n",
        "                print(f'Current Performance Dict: {current_perf_dict}')\n",
        "                list_avg_perfs = list(current_perf_dict.values())\n",
        "                average_perf = np.mean(list_avg_perfs)\n",
        "\n",
        "                tr_epochs_valid_perf.append(i+1)\n",
        "                tr_valid_perfs_list_of_dicts.append(current_perf_dict)\n",
        "                tr_valid_perfs_avg.append(average_perf)\n",
        "\n",
        "                print(f'Current Average Performance: {average_perf}')\n",
        "\n",
        "                # --- CORRECTED EARLY STOPPING LOGIC ---\n",
        "\n",
        "                # First, check if the threshold has been met\n",
        "                status_list = [perf > min_validation_perf for perf in list_avg_perfs]\n",
        "                if all(status_list) and not surpassed_threshold:\n",
        "                    surpassed_threshold = True\n",
        "                    n_steps_first_th = i + 1\n",
        "                    num_steps_for_early_stop_check = 100 # Speed up checks\n",
        "                    print(\"Performance threshold surpassed. Starting early stopping countdown.\")\n",
        "\n",
        "                # Always track the best performance seen at any point\n",
        "                if average_perf > current_best_valid_accuracy_all:\n",
        "                    current_best_valid_accuracy_all = average_perf\n",
        "                    best_valid_performance_all = list_avg_perfs\n",
        "\n",
        "                # Now, handle the early stopping logic which is active ONLY AFTER the threshold is passed\n",
        "                if surpassed_threshold:\n",
        "                    if average_perf > current_best_valid_accuracy_es:\n",
        "                        current_best_valid_accuracy_es = average_perf\n",
        "                        best_valid_performance_es = list_avg_perfs\n",
        "                        torch.save(model.state_dict(), model_save_name)\n",
        "                        current_patience = patience # Reset patience on new best\n",
        "\n",
        "                    elif current_patience <= 0:\n",
        "                        n_steps_final = i + 1\n",
        "                        print('Early Stopping. I have run out of patience Grrr')\n",
        "                        break\n",
        "\n",
        "                    else:\n",
        "                        # If performance is not a new best, and we have not run out of patience, decrease patience\n",
        "                        current_patience -= 1\n",
        "\n",
        "\n",
        "            model.train()\n",
        "\n",
        "    learning_curve_dict = {\n",
        "            'training_loss_epochs_list': tr_epochs_loss,\n",
        "            'total_training_loss_values_list' : tr_total_loss,\n",
        "            'task_training_loss_values_list' : tr_task_loss,\n",
        "            'attention_training_loss_values_list' : tr_attn_loss,\n",
        "            'activity_training_loss_values_list' : tr_act_loss,\n",
        "            'validation_perf_epochs_list': tr_epochs_valid_perf,\n",
        "            'validation_perf_dicts_list' : tr_valid_perfs_list_of_dicts,\n",
        "            'validation_perf_avg_values_list' : tr_valid_perfs_avg,\n",
        "            'n_steps_first_th' : n_steps_first_th,\n",
        "            'n_steps_final' : n_steps_final\n",
        "                }\n",
        "\n",
        "    try:\n",
        "        # Load the best model that was saved (which would only happen if it crossed the threshold)\n",
        "        model.load_state_dict(torch.load(model_save_name))\n",
        "        print('Best model loaded')\n",
        "        for valid_set_name, perf in zip(validation_set_dict.keys(), best_valid_performance_es):\n",
        "            print(f'Best {valid_set_name} performance: {perf}')\n",
        "\n",
        "        if tr_output_mode:\n",
        "            return model, learning_curve_dict\n",
        "        return model\n",
        "    except:\n",
        "        print('No best model that satisfies validation threshold found')\n",
        "        # This part for tracking best performance regardless of threshold is preserved\n",
        "        current_best_valid_accuracy_all = max(tr_valid_perfs_avg) if tr_valid_perfs_avg else 0\n",
        "        best_perf_idx = np.argmax(tr_valid_perfs_avg) if tr_valid_perfs_avg else -1\n",
        "        best_valid_performance_all = tr_valid_perfs_list_of_dicts[best_perf_idx] if best_perf_idx != -1 else best_valid_performance_all\n",
        "\n",
        "        print(f'Best all time performance: {current_best_valid_accuracy_all}')\n",
        "        for valid_set_name, perf in zip(validation_set_dict.keys(), best_valid_performance_all):\n",
        "            print(f'Best {valid_set_name} performance: {perf}')\n",
        "\n",
        "        if tr_output_mode:\n",
        "            return model, learning_curve_dict\n",
        "        return model"
      ]
    },
    {
      "cell_type": "markdown",
      "metadata": {
        "id": "DbcEEeYL2YEr"
      },
      "source": [
        "### Learning Curve Plotter - NEED TO CHANGE FOR NEW TRACKING"
      ]
    },
    {
      "cell_type": "code",
      "execution_count": null,
      "metadata": {
        "id": "kHbTXZvURm_V"
      },
      "outputs": [],
      "source": [
        "\n",
        "def plot_learning_curve(learning_curve_dict, average_only=False, filename=None, show_legend=True, legend_location='upper right'):\n",
        "    \"\"\"\n",
        "    Plots the training loss and validation accuracy from a learning_curve_dict.\n",
        "\n",
        "    Args:\n",
        "        learning_curve_dict (dict): Dictionary containing learning curve data.\n",
        "            Expected keys: 'training_loss_epochs_list', 'training_loss_values_list',\n",
        "            'validation_perf_epochs_list', 'validation_perf_dicts_list',\n",
        "            'validation_perf_avg_values_list'.\n",
        "        average_only (bool, optional): If True, plots only the average validation performance.\n",
        "            Defaults to False.\n",
        "        filename (str, optional): If provided, saves the figure to this filename.\n",
        "            Defaults to None.\n",
        "        show_legend (bool, optional): If True, displays the legend. Defaults to True.\n",
        "        legend_location (str, optional): Specifies the location of the legend.\n",
        "                                         Can be 'upper right', 'center', 'right', etc.\n",
        "                                         Defaults to 'upper right'.\n",
        "    \"\"\"\n",
        "    tr_epochs_loss = learning_curve_dict['training_loss_epochs_list']\n",
        "    tr_loss = learning_curve_dict['training_loss_values_list']\n",
        "    val_epochs = learning_curve_dict['validation_perf_epochs_list']\n",
        "    val_dicts = learning_curve_dict['validation_perf_dicts_list']\n",
        "    val_avg = learning_curve_dict['validation_perf_avg_values_list']\n",
        "\n",
        "    # Find the first value in val_avg that is greater than 0.8\n",
        "    th_location = np.where(np.array(val_avg) > 0.8)[0][0] if np.any(np.array(val_avg) > 0.8) else None\n",
        "    if th_location is not None:\n",
        "        n_steps_first_th = val_epochs[th_location]\n",
        "    else:\n",
        "        n_steps_first_th = None\n",
        "    n_steps_final = learning_curve_dict['n_steps_final']\n",
        "\n",
        "    fig, ax1 = plt.subplots(figsize=(12, 6))\n",
        "\n",
        "    # Plot Training Loss on the left y-axis\n",
        "    ax1.plot(tr_epochs_loss, tr_loss, color='tab:blue', label='Training Loss')\n",
        "    ax1.set_xlabel('Epoch')\n",
        "    ax1.set_ylabel('Training Loss', color='tab:blue')\n",
        "    ax1.tick_params(axis='y', labelcolor='tab:blue')\n",
        "\n",
        "    # Create a second y-axis for validation performance\n",
        "    ax2 = ax1.twinx()\n",
        "    ax2.set_ylabel('Validation Performance', color='tab:red')\n",
        "    ax2.tick_params(axis='y', labelcolor='tab:red')\n",
        "\n",
        "    # Plot Validation Performance on the right y-axis\n",
        "    if average_only:\n",
        "        ax2.plot(val_epochs, val_avg, color='tab:red', linestyle='--', label='Average Validation Performance')\n",
        "    else:\n",
        "        if val_dicts:\n",
        "            # Get all unique validation set names\n",
        "            validation_set_names = list(val_dicts[0].keys())\n",
        "            # Define 4 distinct colors for the validation sets\n",
        "            colors = ['tab:orange', 'tab:green', 'tab:purple', 'tab:brown']\n",
        "\n",
        "            for i, name in enumerate(validation_set_names):\n",
        "                # Extract the values for the current validation set across epochs\n",
        "                values = [d[name] for d in val_dicts]\n",
        "                ax2.plot(val_epochs, values, color=colors[i % len(colors)], linestyle='-', label=f'{name} Performance')\n",
        "\n",
        "    # Plot a vertical dashed line at the n_steps_first_th epoch\n",
        "    if n_steps_first_th is not None:\n",
        "        ax2.axvline(x=n_steps_first_th, color='black', linestyle='--', label='Validation Performance TH Met')\n",
        "\n",
        "    # Combine legends from both axes and place it\n",
        "    if show_legend:\n",
        "        lines1, labels1 = ax1.get_legend_handles_labels()\n",
        "        lines2, labels2 = ax2.get_legend_handles_labels()\n",
        "        ax2.legend(lines1 + lines2, labels1 + labels2, loc=legend_location)\n",
        "\n",
        "\n",
        "    plt.title('Learning Curve: Training Loss and Validation Performance vs. Epoch')\n",
        "    fig.tight_layout() # Adjust layout to prevent labels overlapping\n",
        "\n",
        "    if filename:\n",
        "        plt.savefig(filename, dpi=300, bbox_inches='tight') # Save with high resolution\n",
        "        print(f\"Figure saved to {filename}\")\n",
        "\n",
        "    plt.show()\n",
        "    plt.close(fig)\n"
      ]
    },
    {
      "cell_type": "markdown",
      "source": [
        "### Save Training Outputs to drive"
      ],
      "metadata": {
        "id": "D06mg8fRxiuR"
      }
    },
    {
      "cell_type": "code",
      "execution_count": null,
      "metadata": {
        "id": "PIL6K2KMvRBm"
      },
      "outputs": [],
      "source": [
        "\n",
        "\n",
        "def save_training_results(training_dict, model, model_name, drive_folder='trained_models_gated'):\n",
        "    \"\"\"\n",
        "    Pickles the training dictionary and saves the trained PyTorch model's state_dict\n",
        "    to Google Drive.\n",
        "\n",
        "    Args:\n",
        "        training_dict (dict): The dictionary containing training results.\n",
        "        model (torch.nn.Module): The trained PyTorch model.\n",
        "        model_name (str): The base name for saving the files (without extension).\n",
        "        drive_folder (str): The name of the folder in Google Drive to save the files.\n",
        "    \"\"\"\n",
        "    try:\n",
        "        # Mount Google Drive if not already mounted\n",
        "        try:\n",
        "            drive.mount('/content/drive', force_remount=True)\n",
        "            print(\"Google Drive mounted.\")\n",
        "        except Exception as e:\n",
        "            print(f\"Could not mount Google Drive: {e}\")\n",
        "            return\n",
        "\n",
        "        # Create the target directory in Google Drive if it doesn't exist\n",
        "        drive_path = f'/content/drive/My Drive/{drive_folder}/'\n",
        "        os.makedirs(drive_path, exist_ok=True)\n",
        "        print(f\"Saving files to: {drive_path}\")\n",
        "\n",
        "        # Save the training dictionary\n",
        "        dict_filename = f'{model_name}_training_dict.pkl'\n",
        "        dict_filepath = os.path.join(drive_path, dict_filename)\n",
        "        with open(dict_filepath, 'wb') as f:\n",
        "            pickle.dump(training_dict, f)\n",
        "        print(f\"Training dictionary saved to {dict_filepath}\")\n",
        "\n",
        "        # Save the model's state dictionary\n",
        "        model_filename = f'{model_name}_state_dict.pth'\n",
        "        model_filepath = os.path.join(drive_path, model_filename)\n",
        "        torch.save(model.state_dict(), model_filepath)\n",
        "        print(f\"Model state dictionary saved to {model_filepath}\")\n",
        "\n",
        "    except Exception as e:\n",
        "        print(f\"An error occurred while saving: {e}\")\n"
      ]
    },
    {
      "cell_type": "code",
      "source": [],
      "metadata": {
        "id": "jt5Upw1gyDc_"
      },
      "execution_count": null,
      "outputs": []
    },
    {
      "cell_type": "markdown",
      "metadata": {
        "id": "l74LcLEOFTNo"
      },
      "source": [
        "# Definition for Hierarchical Gated Attention"
      ]
    },
    {
      "cell_type": "code",
      "execution_count": null,
      "metadata": {
        "id": "rA48vmPmFSmW"
      },
      "outputs": [],
      "source": [
        "\n",
        "\n",
        "class LeakyRNN(nn.Module):\n",
        "    \"\"\"\n",
        "    A standard Leaky RNN with no self-connections and maintained state/output separation.\n",
        "    This will be the core component for both the IT and PF layers.\n",
        "    \"\"\"\n",
        "    def __init__(self, input_size, hidden_size, dt, tau=100):\n",
        "        super().__init__()\n",
        "        self.input_size = input_size\n",
        "        self.hidden_size = hidden_size\n",
        "        self.tau = tau\n",
        "        self.alpha = dt / self.tau\n",
        "\n",
        "        # Define layers\n",
        "        self.input2h = nn.Linear(input_size, hidden_size)\n",
        "        self.h2h = nn.Linear(hidden_size, hidden_size)\n",
        "\n",
        "        # Create and register the no-self-connection mask as a buffer\n",
        "        mask = torch.ones(self.hidden_size, self.hidden_size) - torch.eye(self.hidden_size)\n",
        "        self.register_buffer('nsc_mask', mask)\n",
        "\n",
        "        self.reset_parameters()\n",
        "\n",
        "\n",
        "    def reset_parameters(self):\n",
        "      # Initialise input-to-hidden layer with Kaiming Uniform\n",
        "      init.kaiming_uniform_(self.input2h.weight, a=math.sqrt(5))\n",
        "      if self.input2h.bias is not None:\n",
        "          fan_in, _ = init._calculate_fan_in_and_fan_out(self.input2h.weight)\n",
        "          bound = 1 / math.sqrt(fan_in)\n",
        "          init.uniform_(self.input2h.bias, -bound, bound)\n",
        "\n",
        "      # Initialise hidden-to-hidden layer with Orthogonal\n",
        "      init.orthogonal_(self.h2h.weight)\n",
        "      if self.h2h.bias is not None:\n",
        "          fan_in, _ = init._calculate_fan_in_and_fan_out(self.h2h.weight)\n",
        "          bound = 1 / math.sqrt(fan_in)\n",
        "          init.uniform_(self.h2h.bias, -bound, bound)\n",
        "\n",
        "\n",
        "    def init_hidden(self, batch_size, device):\n",
        "        # Initial state and output are both zero\n",
        "        state = torch.zeros(batch_size, self.hidden_size).to(device)\n",
        "        output = torch.zeros(batch_size, self.hidden_size).to(device)\n",
        "        return state, output\n",
        "\n",
        "    def recurrence(self, input, hidden):\n",
        "        state, output_prev = hidden\n",
        "\n",
        "        effective_h2h_weights = self.h2h.weight * self.nsc_mask\n",
        "        recurrent_input = F.linear(output_prev, effective_h2h_weights, self.h2h.bias)\n",
        "\n",
        "        total_input = self.input2h(input) + recurrent_input\n",
        "\n",
        "        new_state = state * (1 - self.alpha) + total_input * self.alpha\n",
        "        new_output = torch.relu(new_state)\n",
        "\n",
        "        return new_state, new_output\n",
        "\n",
        "    def forward(self, input_seq, hidden_init=None):\n",
        "        # This forward pass is for when the layer is used in isolation\n",
        "        if hidden_init is None:\n",
        "            hidden = self.init_hidden(input_seq.shape[1], input_seq.device)\n",
        "        else:\n",
        "            hidden = hidden_init\n",
        "\n",
        "        output_seq = []\n",
        "        for input_t in input_seq:\n",
        "            hidden = self.recurrence(input_t, hidden)\n",
        "            output_seq.append(hidden[1])\n",
        "\n",
        "        return torch.stack(output_seq, dim=0), hidden"
      ]
    },
    {
      "cell_type": "code",
      "execution_count": null,
      "metadata": {
        "id": "FYt51l5VGEyQ"
      },
      "outputs": [],
      "source": [
        "class HierarchicalGatedRNN(nn.Module):\n",
        "    \"\"\"\n",
        "    A two-layer hierarchical RNN (IT -> PF) with a top-down multiplicative\n",
        "    attentional gate from PF that acts on the raw sensory inputs to IT.\n",
        "    \"\"\"\n",
        "    def __init__(self, input_size, it_size, pf_size, output_size, dt=20, tau_it=50, tau_pf=300):\n",
        "        super().__init__()\n",
        "        self.input_size = input_size\n",
        "        self.sensory_input_size = input_size - 1 # Exclude the fixation channel\n",
        "        self.it_size = it_size\n",
        "        self.pf_size = pf_size\n",
        "        self.output_size = output_size\n",
        "\n",
        "        # --- Define Network Components ---\n",
        "\n",
        "        # IT Layer: Receives gated sensory input + fixation bit\n",
        "        self.rnn_it = LeakyRNN(input_size, it_size, dt, tau=tau_it)\n",
        "\n",
        "        # PF Layer: Receives input from the IT layer's output (firing rate)\n",
        "        self.rnn_pf = LeakyRNN(it_size, pf_size, dt, tau=tau_pf)\n",
        "\n",
        "        # Feedback Layer: Maps PF activity to an attention map for the sensory inputs\n",
        "        self.feedback = nn.Linear(pf_size, self.sensory_input_size)\n",
        "\n",
        "        # Output Layer: Reads out the decision from the PF layer\n",
        "        self.fc = nn.Linear(pf_size, output_size)\n",
        "        self.all_layers = [self.feedback, self.fc]\n",
        "        self.reset_parameters()\n",
        "\n",
        "\n",
        "    def reset_parameters(self):\n",
        "      for layer in self.all_layers:\n",
        "        if isinstance(layer, nn.Linear):\n",
        "          init.kaiming_uniform_(layer.weight, a=math.sqrt(5))\n",
        "          if layer.bias is not None:\n",
        "            fan_in, _ = init._calculate_fan_in_and_fan_out(layer.weight)\n",
        "            bound = 1 / math.sqrt(fan_in)\n",
        "            init.uniform_(layer.bias, -bound, bound)\n",
        "\n",
        "\n",
        "    def forward(self, input_seq, track_outputs=False):\n",
        "        # Get batch size and device from the input tensor\n",
        "        seq_len, batch_size, _ = input_seq.shape\n",
        "        device = input_seq.device\n",
        "\n",
        "        # --- Initialize Hidden States and Attention ---\n",
        "        h_it_state, h_it_output = self.rnn_it.init_hidden(batch_size, device)\n",
        "        h_pf_state, h_pf_output = self.rnn_pf.init_hidden(batch_size, device)\n",
        "\n",
        "        # Initialize the attention gate to all ones (pass-through)\n",
        "        attention_gate = torch.ones(batch_size, self.sensory_input_size).to(device)\n",
        "\n",
        "        # --- Lists to store outputs over time ---\n",
        "        task_outputs = []\n",
        "        attention_maps = []\n",
        "        # Add lists for hidden states if needed for analysis\n",
        "        h_it_outs = []\n",
        "        h_pf_outs = []\n",
        "\n",
        "        # --- Manual loop over the time sequence ---\n",
        "        for i in range(seq_len):\n",
        "            input_t = input_seq[i]\n",
        "\n",
        "            # 1. GATE THE SENSORY INPUT\n",
        "            # Separate the fixation and sensory inputs\n",
        "            fixation_input = input_t[:, 0:1]\n",
        "            sensory_input = input_t[:, 1:]\n",
        "\n",
        "            # Apply the gate from the *previous* time step to the sensory input\n",
        "            gated_sensory_input = sensory_input * attention_gate\n",
        "\n",
        "            # Recombine for the IT layer's input\n",
        "            gated_input_t = torch.cat([fixation_input, gated_sensory_input], dim=1)\n",
        "\n",
        "            # 2. UPDATE THE IT LAYER\n",
        "            h_it_state, h_it_output = self.rnn_it.recurrence(gated_input_t, (h_it_state, h_it_output))\n",
        "            # RNN activity tracking for L2\n",
        "            h_it_outs.append(h_it_output)\n",
        "\n",
        "\n",
        "            # 3. UPDATE THE PF LAYER\n",
        "            # The PF layer's input is the firing rate (output) of the IT layer\n",
        "            h_pf_state, h_pf_output = self.rnn_pf.recurrence(h_it_output, (h_pf_state, h_pf_output))\n",
        "\n",
        "            # RNN activity tracking for L2\n",
        "            h_pf_outs.append(h_pf_output)\n",
        "\n",
        "            # 4. CALCULATE THE NEW ATTENTION GATE FOR THE *NEXT* TIMESTEP\n",
        "            # The feedback signal originates from the PF layer's output\n",
        "            attention_signal = self.feedback(h_pf_output)\n",
        "            attention_gate = torch.sigmoid(attention_signal) # Apply sigmoid to get [0,1] gate\n",
        "\n",
        "            # Store the attention map for this step (for loss calculation and analysis)\n",
        "            attention_maps.append(attention_gate)\n",
        "\n",
        "            # 5. CALCULATE THE TASK OUTPUT FOR THIS TIMESTEP\n",
        "            task_output_t = self.fc(h_pf_output)\n",
        "            task_outputs.append(task_output_t)\n",
        "\n",
        "        # Stack all the collected outputs into tensors\n",
        "        all_task_outputs = torch.stack(task_outputs, dim=0)\n",
        "        all_attention_maps = torch.stack(attention_maps, dim=0)\n",
        "        # RNN activity tracking for L2\n",
        "        h_it_outs = torch.stack(h_it_outs, dim=0)\n",
        "        h_pf_outs = torch.stack(h_pf_outs, dim=0)\n",
        "\n",
        "        if track_outputs:\n",
        "            return all_task_outputs, all_attention_maps, (h_it_outs, h_pf_outs)\n",
        "\n",
        "        # The function now returns the task output and the attention map\n",
        "        return all_task_outputs, all_attention_maps\n"
      ]
    },
    {
      "cell_type": "markdown",
      "metadata": {
        "id": "WI-i0nJXL0MC"
      },
      "source": [
        "# Definition of Salehi Attention WITHOUT LATERAL"
      ]
    },
    {
      "cell_type": "code",
      "execution_count": null,
      "metadata": {
        "id": "DYwzDRkb81Jg"
      },
      "outputs": [],
      "source": [
        "\n",
        "# --- CORE BUILDING BLOCKS  ---\n",
        "\n",
        "class LeakyRNN_NSC_MS(nn.Module):\n",
        "    \"\"\"Leaky RNN No Self Connections and Maintained Unit State\"\"\"\n",
        "    def __init__(self, input_size, hidden_size, dt, tau=100, **kwargs):\n",
        "        super().__init__()\n",
        "        self.input_size = input_size\n",
        "        self.hidden_size = hidden_size\n",
        "        self.tau = tau\n",
        "        self.alpha = dt / self.tau\n",
        "        mask = torch.ones(self.hidden_size, self.hidden_size) - torch.eye(self.hidden_size, self.hidden_size)\n",
        "        self.register_buffer('nsc_mask', mask)\n",
        "        self.input2h = nn.Linear(input_size, hidden_size)\n",
        "        self.h2h = nn.Linear(hidden_size, hidden_size)\n",
        "\n",
        "        self.reset_parameters()\n",
        "\n",
        "    def reset_parameters(self):\n",
        "      # Initialise input-to-hidden layer with Kaiming Uniform\n",
        "      init.kaiming_uniform_(self.input2h.weight, a=math.sqrt(5))\n",
        "      if self.input2h.bias is not None:\n",
        "          fan_in, _ = init._calculate_fan_in_and_fan_out(self.input2h.weight)\n",
        "          bound = 1 / math.sqrt(fan_in)\n",
        "          init.uniform_(self.input2h.bias, -bound, bound)\n",
        "\n",
        "      # Initialise hidden-to-hidden layer with Orthogonal\n",
        "      init.orthogonal_(self.h2h.weight)\n",
        "      if self.h2h.bias is not None:\n",
        "          fan_in, _ = init._calculate_fan_in_and_fan_out(self.h2h.weight)\n",
        "          bound = 1 / math.sqrt(fan_in)\n",
        "          init.uniform_(self.h2h.bias, -bound, bound)\n",
        "\n",
        "\n",
        "\n",
        "    def init_hidden(self, input_tensor_for_shape):\n",
        "      batch_size = input_tensor_for_shape.shape[1]\n",
        "      device = input_tensor_for_shape.device\n",
        "      return (torch.zeros(batch_size, self.hidden_size).to(device), torch.zeros(batch_size, self.hidden_size).to(device))\n",
        "\n",
        "\n",
        "\n",
        "    def recurrence(self, input, hidden):\n",
        "        state, output = hidden\n",
        "        effective_h2h_weights = self.h2h.weight * self.nsc_mask\n",
        "        recurrent_component = F.linear(output, effective_h2h_weights, self.h2h.bias)\n",
        "        total_input = self.input2h(input) + recurrent_component\n",
        "        state = state * (1 - self.alpha) + total_input * self.alpha\n",
        "        output = torch.relu(state)\n",
        "        return state, output\n",
        "\n",
        "    def forward(self, input, hidden=None):\n",
        "        if hidden is None:\n",
        "            hidden = self.init_hidden(input)\n",
        "        output = []\n",
        "        steps = range(input.size(0))\n",
        "        for i in steps:\n",
        "            hidden = self.recurrence(input[i], hidden)\n",
        "            output.append(hidden[1])\n",
        "        output = torch.stack(output, dim=0)\n",
        "        return output, hidden\n"
      ]
    },
    {
      "cell_type": "code",
      "source": [
        "\n",
        "class TaskOutputLayer(nn.Module):\n",
        "  def __init__(self, input_size, output_size, task_output_size, bias=True):\n",
        "    super().__init__()\n",
        "    self.input_size = input_size\n",
        "    self.output_size = output_size\n",
        "    self.task_output_size = task_output_size\n",
        "    self.input2output = nn.Linear(input_size, output_size, bias=bias)\n",
        "    self.all_layers = [self.input2output]\n",
        "    self.reset_parameters()\n",
        "\n",
        "  def reset_parameters(self):\n",
        "    for layer in self.all_layers:\n",
        "      if isinstance(layer, nn.Linear):\n",
        "        init.kaiming_uniform_(layer.weight, a=math.sqrt(5))\n",
        "      if layer.bias is not None:\n",
        "        fan_in, _ = init._calculate_fan_in_and_fan_out(layer.weight)\n",
        "        bound = 1 / math.sqrt(fan_in)\n",
        "        init.uniform_(layer.bias, -bound, bound)\n",
        "\n",
        "  def forward(self, input):\n",
        "    output = self.input2output(input)\n",
        "    task_output = output[:, :self.task_output_size]\n",
        "    non_task_output = output[:, self.task_output_size:]\n",
        "    return task_output, output, non_task_output\n"
      ],
      "metadata": {
        "id": "Q42053NkyQr8"
      },
      "execution_count": null,
      "outputs": []
    },
    {
      "cell_type": "code",
      "source": [
        "\n",
        "# SALEHI ATTENTION NO LATERAL CONNECTIONS\n",
        "class SalehiAttentionRecurrent_NOLATERAL(nn.Module):\n",
        "  def __init__(self, input_size, output_size_non_task, output_size_task,\n",
        "               bu1_hidden_size=64, bu2_hidden_size=32, td1_hidden_size=32, td2_hidden_size=64,\n",
        "                dt=50, tau_bu1=50, tau_bu2=100, tau_td1=100, tau_td2=50):\n",
        "    super().__init__()\n",
        "    self.input_size = input_size\n",
        "    self.sensory_input_size = input_size - 1\n",
        "    self.bu1_hidden_size = bu1_hidden_size\n",
        "    self.bu2_hidden_size = bu2_hidden_size\n",
        "    self.td1_hidden_size = td1_hidden_size\n",
        "    self.td2_hidden_size = td2_hidden_size\n",
        "    self.total_output_size = output_size_non_task + output_size_task\n",
        "\n",
        "    # --- U-Shaped Architecture with Recurrent Layers ---\n",
        "    # Bottom-Up Pathway\n",
        "    self.BottomUp_RNN_1 = LeakyRNN_NSC_MS(input_size=input_size, hidden_size=bu1_hidden_size, dt=dt, tau=tau_bu1)\n",
        "    self.BottomUp_RNN_2 = LeakyRNN_NSC_MS(input_size=bu1_hidden_size, hidden_size=bu2_hidden_size, dt=dt, tau=tau_bu2)\n",
        "    self.BottomUp_Output = TaskOutputLayer(input_size=bu2_hidden_size, output_size=self.total_output_size, task_output_size=output_size_task)\n",
        "\n",
        "    # Top-Down Pathway\n",
        "    self.TopDown_RNN_1 = LeakyRNN_NSC_MS(input_size=self.total_output_size, hidden_size=td1_hidden_size, dt=dt, tau=tau_td1)\n",
        "\n",
        "     # --- PROJECTION LAYERS for Lateral Connection ---\n",
        "    # self.TopDown_Projection = nn.Linear(td1_hidden_size, td2_hidden_size) # Projects top-down signal\n",
        "    # self.Lateral_Connection = nn.Linear(bu1_hidden_size, td2_hidden_size) # Projects lateral signal\n",
        "\n",
        "    self.TopDown_RNN_2 = LeakyRNN_NSC_MS(input_size=td1_hidden_size, hidden_size=td2_hidden_size, dt=dt, tau=tau_td2)\n",
        "    self.Attention_Map_Output = nn.Linear(td2_hidden_size, self.sensory_input_size)\n",
        "\n",
        "    self.all_layers = [self.Attention_Map_Output]\n",
        "    self.reset_parameters()\n",
        "\n",
        "  def reset_parameters(self):\n",
        "    for layer in self.all_layers:\n",
        "      if isinstance(layer, nn.Linear):\n",
        "        init.kaiming_uniform_(layer.weight, a=math.sqrt(5))\n",
        "      if layer.bias is not None:\n",
        "        fan_in, _ = init._calculate_fan_in_and_fan_out(layer.weight)\n",
        "        bound = 1 / math.sqrt(fan_in)\n",
        "        init.uniform_(layer.bias, -bound, bound)\n",
        "\n",
        "  def forward(self, input_seq, hidden_states=None, track_outputs=False):\n",
        "    seq_len, batch_size, _ = input_seq.shape\n",
        "    device = input_seq.device\n",
        "\n",
        "    # --- Initialise Hidden States ---\n",
        "    if hidden_states is None:\n",
        "        h_bu1 = self.BottomUp_RNN_1.init_hidden(input_seq)\n",
        "        h_bu2 = self.BottomUp_RNN_2.init_hidden(input_seq)\n",
        "        h_td1 = self.TopDown_RNN_1.init_hidden(input_seq)\n",
        "        h_td2 = self.TopDown_RNN_2.init_hidden(input_seq)\n",
        "    else:\n",
        "        h_bu1, h_bu2, h_td1, h_td2 = hidden_states\n",
        "\n",
        "    attention_gate = torch.ones(batch_size, self.sensory_input_size).to(device)\n",
        "\n",
        "    # Lists for storing outputs\n",
        "    task_outputs, attention_maps = [], []\n",
        "\n",
        "    # STORING RNN OUTPUTS FOR ACTIVITY REGULARISER\n",
        "    h_bu1_outs = []\n",
        "    h_bu2_outs = []\n",
        "    h_td1_outs = []\n",
        "    h_td2_outs = []\n",
        "    bottom_up_non_task_outs = []\n",
        "\n",
        "    for i in range(seq_len):\n",
        "        input_t = input_seq[i]\n",
        "\n",
        "        # --- Gating (on sensory inputs only) ---\n",
        "        fixation_input = input_t[:, 0:1]\n",
        "        sensory_input = input_t[:, 1:]\n",
        "        gated_sensory_input = sensory_input * attention_gate\n",
        "        gated_input_t = torch.cat([fixation_input, gated_sensory_input], dim=1)\n",
        "\n",
        "        # --- Bottom-Up Pathway ---\n",
        "        h_bu1 = self.BottomUp_RNN_1.recurrence(gated_input_t, h_bu1)\n",
        "        bu1_output = h_bu1[1] # Use the firing rate (output)\n",
        "        # RNN activity tracking for L2\n",
        "        h_bu1_outs.append(bu1_output)\n",
        "\n",
        "\n",
        "        h_bu2 = self.BottomUp_RNN_2.recurrence(bu1_output, h_bu2)\n",
        "        bu2_output = h_bu2[1]\n",
        "        # RNN activity tracking for L2\n",
        "        h_bu2_outs.append(bu2_output)\n",
        "\n",
        "        task_output, bottom_up_final_output, non_task_bottom_up_output = self.BottomUp_Output(bu2_output)\n",
        "        bottom_up_non_task_outs.append(non_task_bottom_up_output)\n",
        "\n",
        "        # --- Top-Down Pathway ---\n",
        "        h_td1 = self.TopDown_RNN_1.recurrence(bottom_up_final_output, h_td1)\n",
        "        td1_output = h_td1[1]\n",
        "        # RNN activity tracking for L2\n",
        "        h_td1_outs.append(td1_output)\n",
        "\n",
        "\n",
        "        # # --- Lateral Connection (Additive) ---\n",
        "        # top_down_projected = self.TopDown_Projection(td1_output)\n",
        "        # lateral_signal_projected = self.Lateral_Connection(bu1_output)\n",
        "        # combined_td_input = top_down_projected + lateral_signal_projected\n",
        "\n",
        "        # h_td2 = self.TopDown_RNN_2.recurrence(combined_td_input, h_td2)\n",
        "        h_td2 = self.TopDown_RNN_2.recurrence(td1_output, h_td2)\n",
        "        td2_output = h_td2[1]\n",
        "\n",
        "        # RNN activity tracking for L2\n",
        "        h_td2_outs.append(td2_output)\n",
        "\n",
        "        # --- Attention Map Generation ---\n",
        "        attention_map_output = self.Attention_Map_Output(td2_output)\n",
        "        attention_gate = torch.sigmoid(attention_map_output)\n",
        "\n",
        "        # Store results\n",
        "        task_outputs.append(task_output)\n",
        "        attention_maps.append(attention_gate)\n",
        "\n",
        "    all_task_outputs = torch.stack(task_outputs, dim=0)\n",
        "    all_attention_maps = torch.stack(attention_maps, dim=0)\n",
        "    # RNN activity tracking for L2\n",
        "    h_bu1_outs = torch.stack(h_bu1_outs, dim=0)\n",
        "    h_bu2_outs = torch.stack(h_bu2_outs, dim=0)\n",
        "    h_td1_outs = torch.stack(h_td1_outs, dim=0)\n",
        "    h_td2_outs = torch.stack(h_td2_outs, dim=0)\n",
        "    bottom_up_non_task_outs = torch.stack(bottom_up_non_task_outs, dim=0)\n",
        "\n",
        "    if track_outputs:\n",
        "      # return all_task_outputs, all_attention_maps, (h_bu1_outs, h_bu2_outs, h_td1_outs, h_td2_outs, bottom_up_non_task_outs)\n",
        "      return all_task_outputs, all_attention_maps, (h_bu1_outs, h_bu2_outs, h_td1_outs, h_td2_outs)\n",
        "\n",
        "\n",
        "    return all_task_outputs, all_attention_maps\n"
      ],
      "metadata": {
        "id": "CNVhjW9vyKRL"
      },
      "execution_count": null,
      "outputs": []
    },
    {
      "cell_type": "markdown",
      "source": [
        "# Salehi Attention with Lateral"
      ],
      "metadata": {
        "id": "tm7bistIESh0"
      }
    },
    {
      "cell_type": "code",
      "execution_count": null,
      "metadata": {
        "id": "TPiFURVNE1pV"
      },
      "outputs": [],
      "source": [
        "class SalehiAttentionRecurrent_LATERAL(nn.Module):\n",
        "  def __init__(self, input_size, output_size_non_task, output_size_task,\n",
        "               bu1_hidden_size=64, bu2_hidden_size=32, td1_hidden_size=32, td2_hidden_size=64,\n",
        "                dt=50, tau_bu1=50, tau_bu2=100, tau_td1=100, tau_td2=50):\n",
        "    super().__init__()\n",
        "    self.input_size = input_size\n",
        "    self.sensory_input_size = input_size - 1\n",
        "    self.bu1_hidden_size = bu1_hidden_size\n",
        "    self.bu2_hidden_size = bu2_hidden_size\n",
        "    self.td1_hidden_size = td1_hidden_size\n",
        "    self.td2_hidden_size = td2_hidden_size\n",
        "    self.total_output_size = output_size_non_task + output_size_task\n",
        "\n",
        "    # --- U-Shaped Architecture with Recurrent Layers ---\n",
        "    # Bottom-Up Pathway\n",
        "    self.BottomUp_RNN_1 = LeakyRNN_NSC_MS(input_size=input_size, hidden_size=bu1_hidden_size, dt=dt, tau=tau_bu1)\n",
        "    self.BottomUp_RNN_2 = LeakyRNN_NSC_MS(input_size=bu1_hidden_size, hidden_size=bu2_hidden_size, dt=dt, tau=tau_bu2)\n",
        "    self.BottomUp_Output = TaskOutputLayer(input_size=bu2_hidden_size, output_size=self.total_output_size, task_output_size=output_size_task)\n",
        "\n",
        "    # Top-Down Pathway\n",
        "    self.TopDown_RNN_1 = LeakyRNN_NSC_MS(input_size=self.total_output_size, hidden_size=td1_hidden_size, dt=dt, tau=tau_td1)\n",
        "\n",
        "     # --- PROJECTION LAYERS for Lateral Connection ---\n",
        "    self.TopDown_Projection = nn.Linear(td1_hidden_size, td2_hidden_size) # Projects top-down signal\n",
        "    self.Lateral_Connection = nn.Linear(bu1_hidden_size, td2_hidden_size) # Projects lateral signal\n",
        "\n",
        "    self.TopDown_RNN_2 = LeakyRNN_NSC_MS(input_size=td2_hidden_size, hidden_size=td2_hidden_size, dt=dt, tau=tau_td2)\n",
        "    self.Attention_Map_Output = nn.Linear(td2_hidden_size, self.sensory_input_size)\n",
        "\n",
        "    self.all_layers = [self.TopDown_Projection, self.Lateral_Connection, self.Attention_Map_Output]\n",
        "    self.reset_parameters()\n",
        "\n",
        "  def reset_parameters(self):\n",
        "    for layer in self.all_layers:\n",
        "      if isinstance(layer, nn.Linear):\n",
        "        init.kaiming_uniform_(layer.weight, a=math.sqrt(5))\n",
        "      if layer.bias is not None:\n",
        "        fan_in, _ = init._calculate_fan_in_and_fan_out(layer.weight)\n",
        "        bound = 1 / math.sqrt(fan_in)\n",
        "        init.uniform_(layer.bias, -bound, bound)\n",
        "\n",
        "  def forward(self, input_seq, hidden_states=None, track_outputs=False):\n",
        "    seq_len, batch_size, _ = input_seq.shape\n",
        "    device = input_seq.device\n",
        "\n",
        "    # --- Initialise Hidden States ---\n",
        "    if hidden_states is None:\n",
        "        h_bu1 = self.BottomUp_RNN_1.init_hidden(input_seq)\n",
        "        h_bu2 = self.BottomUp_RNN_2.init_hidden(input_seq)\n",
        "        h_td1 = self.TopDown_RNN_1.init_hidden(input_seq)\n",
        "        h_td2 = self.TopDown_RNN_2.init_hidden(input_seq)\n",
        "    else:\n",
        "        h_bu1, h_bu2, h_td1, h_td2 = hidden_states\n",
        "\n",
        "    attention_gate = torch.ones(batch_size, self.sensory_input_size).to(device)\n",
        "\n",
        "    # Lists for storing outputs\n",
        "    task_outputs, attention_maps = [], []\n",
        "\n",
        "\n",
        "    # STORING RNN OUTPUTS FOR ACTIVITY REGULARISER\n",
        "    h_bu1_outs = []\n",
        "    h_bu2_outs = []\n",
        "    h_td1_outs = []\n",
        "    h_td2_outs = []\n",
        "    bottom_up_non_task_outs = []\n",
        "\n",
        "\n",
        "    for i in range(seq_len):\n",
        "        input_t = input_seq[i]\n",
        "\n",
        "        # --- Gating (on sensory inputs only) ---\n",
        "        fixation_input = input_t[:, 0:1]\n",
        "        sensory_input = input_t[:, 1:]\n",
        "        gated_sensory_input = sensory_input * attention_gate\n",
        "        gated_input_t = torch.cat([fixation_input, gated_sensory_input], dim=1)\n",
        "\n",
        "        # --- Bottom-Up Pathway ---\n",
        "        h_bu1 = self.BottomUp_RNN_1.recurrence(gated_input_t, h_bu1)\n",
        "        bu1_output = h_bu1[1] # Use the firing rate (output)\n",
        "\n",
        "        # RNN activity tracking for L2\n",
        "        h_bu1_outs.append(bu1_output)\n",
        "\n",
        "        h_bu2 = self.BottomUp_RNN_2.recurrence(bu1_output, h_bu2)\n",
        "        bu2_output = h_bu2[1]\n",
        "\n",
        "        # RNN activity tracking for L2\n",
        "        h_bu2_outs.append(bu2_output)\n",
        "\n",
        "        task_output, bottom_up_final_output, non_task_bottom_up_output = self.BottomUp_Output(bu2_output)\n",
        "        bottom_up_non_task_outs.append(non_task_bottom_up_output)\n",
        "\n",
        "        # --- Top-Down Pathway ---\n",
        "        h_td1 = self.TopDown_RNN_1.recurrence(bottom_up_final_output, h_td1)\n",
        "        td1_output = h_td1[1]\n",
        "        h_td1_outs.append(td1_output)\n",
        "\n",
        "        # --- Lateral Connection (Additive) ---\n",
        "        top_down_projected = self.TopDown_Projection(td1_output)\n",
        "        lateral_signal_projected = self.Lateral_Connection(bu1_output)\n",
        "        combined_td_input = top_down_projected + lateral_signal_projected\n",
        "\n",
        "        h_td2 = self.TopDown_RNN_2.recurrence(combined_td_input, h_td2)\n",
        "        td2_output = h_td2[1]\n",
        "        h_td2_outs.append(td2_output)\n",
        "\n",
        "        # --- Attention Map Generation ---\n",
        "        attention_map_output = self.Attention_Map_Output(td2_output)\n",
        "        attention_gate = torch.sigmoid(attention_map_output)\n",
        "\n",
        "        # Store results\n",
        "        task_outputs.append(task_output)\n",
        "        attention_maps.append(attention_gate)\n",
        "    all_task_outputs = torch.stack(task_outputs, dim=0)\n",
        "    all_attention_maps = torch.stack(attention_maps, dim=0)\n",
        "    # RNN activity tracking for L2\n",
        "    h_bu1_outs = torch.stack(h_bu1_outs, dim=0)\n",
        "    h_bu2_outs = torch.stack(h_bu2_outs, dim=0)\n",
        "    h_td1_outs = torch.stack(h_td1_outs, dim=0)\n",
        "    h_td2_outs = torch.stack(h_td2_outs, dim=0)\n",
        "    bottom_up_non_task_outs = torch.stack(bottom_up_non_task_outs, dim=0)\n",
        "\n",
        "    if track_outputs:\n",
        "      # return all_task_outputs, all_attention_maps, (h_bu1_outs, h_bu2_outs, h_td1_outs, h_td2_outs, bottom_up_non_task_outs)\n",
        "      return all_task_outputs, all_attention_maps, (h_bu1_outs, h_bu2_outs, h_td1_outs, h_td2_outs)\n",
        "\n",
        "\n",
        "    return all_task_outputs, all_attention_maps\n"
      ]
    },
    {
      "cell_type": "markdown",
      "source": [
        "# MODEL INITING AND TRAINING"
      ],
      "metadata": {
        "id": "lWf6G_iyxIAp"
      }
    },
    {
      "cell_type": "code",
      "source": [
        "from google.colab import drive\n",
        "drive.mount('/content/drive')"
      ],
      "metadata": {
        "colab": {
          "base_uri": "https://localhost:8080/"
        },
        "id": "ElDeKDiGa53m",
        "outputId": "152b207d-2955-4257-e461-067798998715"
      },
      "execution_count": null,
      "outputs": [
        {
          "output_type": "stream",
          "name": "stdout",
          "text": [
            "Drive already mounted at /content/drive; to attempt to forcibly remount, call drive.mount(\"/content/drive\", force_remount=True).\n"
          ]
        }
      ]
    },
    {
      "cell_type": "markdown",
      "source": [
        "## TRAINING DATASET DEF"
      ],
      "metadata": {
        "id": "8Rn9z6CA0Xut"
      }
    },
    {
      "cell_type": "code",
      "execution_count": null,
      "metadata": {
        "id": "ISyydYsDdMwn"
      },
      "outputs": [],
      "source": [
        "# Dataset Setups\n",
        "\n",
        "### SHARED ACROSS TRAINING VALID TEST\n",
        "timestep = 50 #ms\n",
        "noise = 0.05\n",
        "batch_size = 64\n",
        "\n",
        "# Assign Timing for each task period (same as default but enables calculation of sequence length)\n",
        "timing_valid_s = {\n",
        "\n",
        "            \"fixation\": 400,\n",
        "            \"sample\": 500,\n",
        "            \"delay1\": 300,\n",
        "            \"test1\": 500,\n",
        "            \"delay2\": 300,\n",
        "            \"test2\": 500,\n",
        "            \"delay3\": 300,\n",
        "            \"test3\": 500\n",
        "              }\n",
        "\n",
        "timing_valid_m = {\n",
        "\n",
        "            \"fixation\": 400,\n",
        "            \"sample\": 500,\n",
        "            \"delay1\": 500,\n",
        "            \"test1\": 500,\n",
        "            \"delay2\": 500,\n",
        "            \"test2\": 500,\n",
        "            \"delay3\": 500,\n",
        "            \"test3\": 500\n",
        "              }\n",
        "\n",
        "timing_valid_l = {\n",
        "\n",
        "            \"fixation\": 400,\n",
        "            \"sample\": 500,\n",
        "            \"delay1\": 900,\n",
        "            \"test1\": 500,\n",
        "            \"delay2\": 900,\n",
        "            \"test2\": 500,\n",
        "            \"delay3\": 900,\n",
        "            \"test3\": 500\n",
        "              }\n",
        "\n",
        "\n",
        "\n",
        "timing_training = {\n",
        "            'fixation': ('choice', (200, 300, 400)),\n",
        "            'sample': 500,\n",
        "            'delay1': ('choice', (400, 600, 800)),\n",
        "            'test1': 500,\n",
        "            'delay2': ('choice', (400, 600, 800)),\n",
        "            'test2': 500,\n",
        "            'delay3': ('choice', (400, 600, 800)),\n",
        "            'test3': 500}\n",
        "\n",
        "# Assign Time step size and calculate sequence length of a full trial\n",
        "# Short\n",
        "trial_time_s = sum(timing_valid_s.values()) #ms\n",
        "seq_len_valid_s = int(trial_time_s/timestep)\n",
        "\n",
        "# Medium\n",
        "trial_time_m = sum(timing_valid_m.values()) #ms\n",
        "seq_len_valid_m = int(trial_time_m/timestep)\n",
        "\n",
        "# Long\n",
        "trial_time_l = sum(timing_valid_l.values()) #ms\n",
        "seq_len_valid_l = int(trial_time_l/timestep)\n",
        "\n",
        "task_name = 'DelayMatchSampleDistractor1D-v0'\n",
        "dim_ring_dms = 32\n",
        "kwargs_valid_s = {'dt' : timestep, 'timing': timing_valid_s, 'sigma': noise, 'dim_ring': dim_ring_dms}\n",
        "kwargs_valid_m= {'dt' : timestep, 'timing': timing_valid_m, 'sigma': noise, 'dim_ring': dim_ring_dms}\n",
        "kwargs_valid_l = {'dt' : timestep, 'timing': timing_valid_l, 'sigma': noise, 'dim_ring': dim_ring_dms}\n",
        "kwargs_training = {'dt' : timestep, 'timing': timing_training, 'sigma': noise, 'dim_ring': dim_ring_dms}\n",
        "\n",
        "dataset_valid_s = ngym.Dataset(task_name, env_kwargs=kwargs_valid_s, batch_size=batch_size, seq_len=seq_len_valid_s)\n",
        "dataset_valid_m = ngym.Dataset(task_name, env_kwargs=kwargs_valid_m, batch_size=batch_size, seq_len=seq_len_valid_m)\n",
        "dataset_valid_l = ngym.Dataset(task_name, env_kwargs=kwargs_valid_l, batch_size=batch_size, seq_len=seq_len_valid_l)\n",
        "dataset_training = ngym.Dataset(task_name, env_kwargs=kwargs_training, batch_size=batch_size)\n",
        "\n",
        "validation_set_dictionary = {\n",
        "    'Short': dataset_valid_s,\n",
        "    'Medium': dataset_valid_m,\n",
        "    'Long': dataset_valid_l\n",
        "}"
      ]
    },
    {
      "cell_type": "code",
      "source": [],
      "metadata": {
        "id": "5i1BlGHEbhLP"
      },
      "execution_count": null,
      "outputs": []
    },
    {
      "cell_type": "markdown",
      "source": [
        "## Initing Salehi With Lateral and Train"
      ],
      "metadata": {
        "id": "5ACD7mINbhSY"
      }
    },
    {
      "cell_type": "code",
      "execution_count": null,
      "metadata": {
        "id": "oevCpVi8bhSZ"
      },
      "outputs": [],
      "source": [
        "# SalehiAttentionRecurrent_Net = SalehiAttentionRecurrent_LATERAL(input_size=33, output_size_non_task=14, output_size_task=2,\n",
        "#                bu1_hidden_size=64, bu2_hidden_size=32, td1_hidden_size=32, td2_hidden_size=64,\n",
        "#                 dt=50, tau_bu1=60, tau_bu2=300, tau_td1=300, tau_td2=60)"
      ]
    },
    {
      "cell_type": "code",
      "source": [
        "# SalehiAttentionRecurrent_Net_Trained, SalehiAttentionRecurrent_Net_training_dict = training_with_early_stop_attention_nets(\n",
        "#     model=SalehiAttentionRecurrent_Net,\n",
        "#     training_dataset= dataset_training,\n",
        "#     validation_set_dict=validation_set_dictionary,\n",
        "#     batch_size=64,\n",
        "#     max_steps=1000000,\n",
        "#     min_validation_perf=0.8,\n",
        "#     patience=5,\n",
        "#     num_steps_for_early_stop_check=500,\n",
        "#     num_validation_trials=200,\n",
        "#     model_name='SalehiRNN_LC',\n",
        "#     tr_output_mode=True,\n",
        "#     attention_loss_weight=0.5,\n",
        "#     L2A = True\n",
        "# )"
      ],
      "metadata": {
        "id": "5KmiXsvnbhSa"
      },
      "execution_count": null,
      "outputs": []
    },
    {
      "cell_type": "code",
      "source": [
        "# save_training_results(SalehiAttentionRecurrent_Net_training_dict, SalehiAttentionRecurrent_Net_Trained, 'Salehi_RNN_LATERAL_CON', '2D_TRAINING_OUTS_DIR')"
      ],
      "metadata": {
        "id": "6WOS-7rbbhSb"
      },
      "execution_count": null,
      "outputs": []
    },
    {
      "cell_type": "code",
      "source": [],
      "metadata": {
        "id": "zMTqVkSubnn2"
      },
      "execution_count": null,
      "outputs": []
    },
    {
      "cell_type": "markdown",
      "source": [
        "## Init Salehi Without Lateral And Train"
      ],
      "metadata": {
        "id": "2FHHDASBw_AH"
      }
    },
    {
      "cell_type": "code",
      "execution_count": null,
      "metadata": {
        "id": "W79xuN9UMPUj"
      },
      "outputs": [],
      "source": [
        "# SalehiAttentionRecurrent_NL_Net = SalehiAttentionRecurrent_NOLATERAL(input_size=33, output_size_non_task=14, output_size_task=2,\n",
        "#                bu1_hidden_size=64, bu2_hidden_size=32, td1_hidden_size=32, td2_hidden_size=64,\n",
        "#                 dt=50, tau_bu1=60, tau_bu2=300, tau_td1=300, tau_td2=60)"
      ]
    },
    {
      "cell_type": "code",
      "execution_count": null,
      "metadata": {
        "id": "2A-AE1ioMqcx"
      },
      "outputs": [],
      "source": [
        "# SalehiAttentionRecurrent_NL_Net_Trained, SalehiAttentionRecurrent_NL_Net_training_dict = training_with_early_stop_attention_nets(\n",
        "#     model=SalehiAttentionRecurrent_NL_Net,\n",
        "#     training_dataset= dataset_training,\n",
        "#     validation_set_dict=validation_set_dictionary,\n",
        "#     batch_size=64,\n",
        "#     max_steps=1000000,\n",
        "#     min_validation_perf=0.8,\n",
        "#     patience=5,\n",
        "#     num_steps_for_early_stop_check=500,\n",
        "#     num_validation_trials=200,\n",
        "#     model_name='SalehiRNN_NL',\n",
        "#     tr_output_mode=True,\n",
        "#     attention_loss_weight=0.5,\n",
        "#     L2A = True\n",
        "# )"
      ]
    },
    {
      "cell_type": "code",
      "execution_count": null,
      "metadata": {
        "id": "Iy0Nd8HFHn6E"
      },
      "outputs": [],
      "source": [
        "# save_training_results(SalehiAttentionRecurrent_NL_Net_training_dict, SalehiAttentionRecurrent_NL_Net_Trained, 'Salehi_RNN_NO_LATERAL', '2D_TRAINING_OUTS_DIR')"
      ]
    },
    {
      "cell_type": "code",
      "execution_count": null,
      "metadata": {
        "id": "vb_k8fmNNSGH"
      },
      "outputs": [],
      "source": []
    },
    {
      "cell_type": "markdown",
      "metadata": {
        "id": "D3VcpcgHse7h"
      },
      "source": [
        "## Init Hierarchical_Gated and Train"
      ]
    },
    {
      "cell_type": "code",
      "execution_count": null,
      "metadata": {
        "id": "4sCdB3ggrnmy"
      },
      "outputs": [],
      "source": [
        "Hierarchical_Gated = HierarchicalGatedRNN(input_size=33, it_size=128, pf_size=64, output_size=2, dt=50, tau_it=100, tau_pf=300)"
      ]
    },
    {
      "cell_type": "code",
      "execution_count": null,
      "metadata": {
        "id": "bSHIjMFNsigT",
        "colab": {
          "base_uri": "https://localhost:8080/"
        },
        "outputId": "ba135988-5fb5-4254-89e1-8d1a243ebb20"
      },
      "outputs": [
        {
          "output_type": "stream",
          "name": "stdout",
          "text": [
            "Training network...\n",
            "--- First Step Losses to Check Beta----\n",
            "Task Loss: 0.6470922231674194\n",
            "Weighted Attention Loss: 0.06263186782598495\n",
            "Activity Loss: 0.0008643817855045199\n",
            "Total Loss: 0.7105884552001953\n",
            "--- First Step Losses to Check Beta----\n",
            "Task Loss: 0.623877227306366\n",
            "Weighted Attention Loss: 0.06281313300132751\n",
            "Activity Loss: 0.0009761244873516262\n",
            "Total Loss: 0.6876664757728577\n",
            "Step 100, Loss 0.3788, Time 25.9s\n",
            "Task Loss: 0.3010, Attention Loss: 0.0631\n",
            "Activity Loss: 0.0146\n",
            "Step 200, Loss 0.2516, Time 51.3s\n",
            "Task Loss: 0.1759, Attention Loss: 0.0627\n",
            "Activity Loss: 0.0130\n",
            "Step 300, Loss 0.2290, Time 76.8s\n",
            "Task Loss: 0.1570, Attention Loss: 0.0623\n",
            "Activity Loss: 0.0096\n",
            "Step 400, Loss 0.2162, Time 102.3s\n",
            "Task Loss: 0.1472, Attention Loss: 0.0605\n",
            "Activity Loss: 0.0085\n",
            "Step 500, Loss 0.1585, Time 127.0s\n",
            "Task Loss: 0.1055, Attention Loss: 0.0413\n",
            "Activity Loss: 0.0117\n",
            "Current Performance Dict: {'Short': 0.17, 'Medium': 0.265, 'Long': 0.265}\n",
            "Current Average Performance: 0.23333333333333336\n",
            "Step 600, Loss 0.1144, Time 167.8s\n",
            "Task Loss: 0.0799, Attention Loss: 0.0208\n",
            "Activity Loss: 0.0137\n",
            "Step 700, Loss 0.0827, Time 193.5s\n",
            "Task Loss: 0.0594, Attention Loss: 0.0095\n",
            "Activity Loss: 0.0139\n",
            "Step 800, Loss 0.0748, Time 219.0s\n",
            "Task Loss: 0.0543, Attention Loss: 0.0077\n",
            "Activity Loss: 0.0127\n",
            "Step 900, Loss 0.0751, Time 244.4s\n",
            "Task Loss: 0.0563, Attention Loss: 0.0069\n",
            "Activity Loss: 0.0119\n",
            "Step 1000, Loss 0.0647, Time 268.6s\n",
            "Task Loss: 0.0477, Attention Loss: 0.0058\n",
            "Activity Loss: 0.0112\n",
            "Current Performance Dict: {'Short': 0.555, 'Medium': 0.665, 'Long': 0.605}\n",
            "Current Average Performance: 0.6083333333333334\n",
            "Step 1100, Loss 0.0612, Time 309.9s\n",
            "Task Loss: 0.0447, Attention Loss: 0.0058\n",
            "Activity Loss: 0.0107\n",
            "Step 1200, Loss 0.0592, Time 335.2s\n",
            "Task Loss: 0.0431, Attention Loss: 0.0058\n",
            "Activity Loss: 0.0103\n",
            "Step 1300, Loss 0.0509, Time 360.7s\n",
            "Task Loss: 0.0359, Attention Loss: 0.0049\n",
            "Activity Loss: 0.0102\n",
            "Step 1400, Loss 0.0523, Time 385.8s\n",
            "Task Loss: 0.0375, Attention Loss: 0.0050\n",
            "Activity Loss: 0.0098\n",
            "Step 1500, Loss 0.0505, Time 410.2s\n",
            "Task Loss: 0.0362, Attention Loss: 0.0048\n",
            "Activity Loss: 0.0095\n",
            "Current Performance Dict: {'Short': 0.46, 'Medium': 0.6, 'Long': 0.475}\n",
            "Current Average Performance: 0.5116666666666667\n",
            "Step 1600, Loss 0.0505, Time 451.5s\n",
            "Task Loss: 0.0367, Attention Loss: 0.0046\n",
            "Activity Loss: 0.0093\n",
            "Step 1700, Loss 0.0444, Time 477.0s\n",
            "Task Loss: 0.0311, Attention Loss: 0.0043\n",
            "Activity Loss: 0.0090\n",
            "Step 1800, Loss 0.0462, Time 502.5s\n",
            "Task Loss: 0.0331, Attention Loss: 0.0043\n",
            "Activity Loss: 0.0088\n",
            "Step 1900, Loss 0.0494, Time 527.0s\n",
            "Task Loss: 0.0363, Attention Loss: 0.0045\n",
            "Activity Loss: 0.0085\n",
            "Step 2000, Loss 0.0468, Time 552.0s\n",
            "Task Loss: 0.0342, Attention Loss: 0.0042\n",
            "Activity Loss: 0.0085\n",
            "Current Performance Dict: {'Short': 0.52, 'Medium': 0.665, 'Long': 0.575}\n",
            "Current Average Performance: 0.5866666666666667\n",
            "Step 2100, Loss 0.0431, Time 593.3s\n",
            "Task Loss: 0.0304, Attention Loss: 0.0043\n",
            "Activity Loss: 0.0083\n",
            "Step 2200, Loss 0.0387, Time 619.6s\n",
            "Task Loss: 0.0266, Attention Loss: 0.0039\n",
            "Activity Loss: 0.0081\n",
            "Step 2300, Loss 0.0408, Time 645.0s\n",
            "Task Loss: 0.0286, Attention Loss: 0.0041\n",
            "Activity Loss: 0.0080\n",
            "Step 2400, Loss 0.0360, Time 669.1s\n",
            "Task Loss: 0.0243, Attention Loss: 0.0040\n",
            "Activity Loss: 0.0077\n",
            "Step 2500, Loss 0.0427, Time 694.4s\n",
            "Task Loss: 0.0305, Attention Loss: 0.0044\n",
            "Activity Loss: 0.0077\n",
            "Current Performance Dict: {'Short': 0.655, 'Medium': 0.79, 'Long': 0.62}\n",
            "Current Average Performance: 0.6883333333333334\n",
            "Step 2600, Loss 0.0445, Time 736.3s\n",
            "Task Loss: 0.0327, Attention Loss: 0.0043\n",
            "Activity Loss: 0.0075\n",
            "Step 2700, Loss 0.0499, Time 761.7s\n",
            "Task Loss: 0.0382, Attention Loss: 0.0043\n",
            "Activity Loss: 0.0074\n",
            "Step 2800, Loss 0.0453, Time 787.6s\n",
            "Task Loss: 0.0337, Attention Loss: 0.0042\n",
            "Activity Loss: 0.0074\n",
            "Step 2900, Loss 0.0432, Time 811.7s\n",
            "Task Loss: 0.0317, Attention Loss: 0.0043\n",
            "Activity Loss: 0.0072\n",
            "Step 3000, Loss 0.0418, Time 836.9s\n",
            "Task Loss: 0.0305, Attention Loss: 0.0041\n",
            "Activity Loss: 0.0071\n",
            "Current Performance Dict: {'Short': 0.53, 'Medium': 0.72, 'Long': 0.58}\n",
            "Current Average Performance: 0.61\n",
            "Step 3100, Loss 0.0383, Time 878.1s\n",
            "Task Loss: 0.0274, Attention Loss: 0.0039\n",
            "Activity Loss: 0.0070\n",
            "Step 3200, Loss 0.0394, Time 903.5s\n",
            "Task Loss: 0.0285, Attention Loss: 0.0040\n",
            "Activity Loss: 0.0069\n",
            "Step 3300, Loss 0.0328, Time 928.4s\n",
            "Task Loss: 0.0221, Attention Loss: 0.0039\n",
            "Activity Loss: 0.0068\n",
            "Step 3400, Loss 0.0326, Time 953.2s\n",
            "Task Loss: 0.0220, Attention Loss: 0.0038\n",
            "Activity Loss: 0.0067\n",
            "Step 3500, Loss 0.0452, Time 978.5s\n",
            "Task Loss: 0.0340, Attention Loss: 0.0044\n",
            "Activity Loss: 0.0067\n",
            "Current Performance Dict: {'Short': 0.585, 'Medium': 0.68, 'Long': 0.64}\n",
            "Current Average Performance: 0.6350000000000001\n",
            "Step 3600, Loss 0.0314, Time 1019.6s\n",
            "Task Loss: 0.0211, Attention Loss: 0.0036\n",
            "Activity Loss: 0.0067\n",
            "Step 3700, Loss 0.0349, Time 1044.7s\n",
            "Task Loss: 0.0244, Attention Loss: 0.0039\n",
            "Activity Loss: 0.0066\n",
            "Step 3800, Loss 0.0343, Time 1069.0s\n",
            "Task Loss: 0.0238, Attention Loss: 0.0041\n",
            "Activity Loss: 0.0064\n",
            "Step 3900, Loss 0.0324, Time 1094.4s\n",
            "Task Loss: 0.0220, Attention Loss: 0.0040\n",
            "Activity Loss: 0.0064\n",
            "Step 4000, Loss 0.0352, Time 1120.1s\n",
            "Task Loss: 0.0252, Attention Loss: 0.0037\n",
            "Activity Loss: 0.0063\n",
            "Current Performance Dict: {'Short': 0.55, 'Medium': 0.75, 'Long': 0.66}\n",
            "Current Average Performance: 0.6533333333333333\n",
            "Step 4100, Loss 0.0309, Time 1161.1s\n",
            "Task Loss: 0.0210, Attention Loss: 0.0036\n",
            "Activity Loss: 0.0062\n",
            "Step 4200, Loss 0.0268, Time 1186.2s\n",
            "Task Loss: 0.0170, Attention Loss: 0.0036\n",
            "Activity Loss: 0.0062\n",
            "Step 4300, Loss 0.0268, Time 1210.7s\n",
            "Task Loss: 0.0174, Attention Loss: 0.0033\n",
            "Activity Loss: 0.0061\n",
            "Step 4400, Loss 0.0305, Time 1236.3s\n",
            "Task Loss: 0.0207, Attention Loss: 0.0036\n",
            "Activity Loss: 0.0062\n",
            "Step 4500, Loss 0.0302, Time 1261.8s\n",
            "Task Loss: 0.0205, Attention Loss: 0.0037\n",
            "Activity Loss: 0.0060\n",
            "Current Performance Dict: {'Short': 0.43, 'Medium': 0.685, 'Long': 0.675}\n",
            "Current Average Performance: 0.5966666666666667\n",
            "Step 4600, Loss 0.0317, Time 1302.8s\n",
            "Task Loss: 0.0219, Attention Loss: 0.0038\n",
            "Activity Loss: 0.0059\n",
            "Step 4700, Loss 0.0350, Time 1327.0s\n",
            "Task Loss: 0.0251, Attention Loss: 0.0039\n",
            "Activity Loss: 0.0059\n",
            "Step 4800, Loss 0.0274, Time 1352.4s\n",
            "Task Loss: 0.0182, Attention Loss: 0.0035\n",
            "Activity Loss: 0.0057\n",
            "Step 4900, Loss 0.0334, Time 1377.6s\n",
            "Task Loss: 0.0239, Attention Loss: 0.0037\n",
            "Activity Loss: 0.0059\n",
            "Step 5000, Loss 0.0271, Time 1403.0s\n",
            "Task Loss: 0.0179, Attention Loss: 0.0036\n",
            "Activity Loss: 0.0057\n",
            "Current Performance Dict: {'Short': 0.72, 'Medium': 0.805, 'Long': 0.78}\n",
            "Current Average Performance: 0.7683333333333332\n",
            "Performance threshold surpassed. Starting early stopping countdown.\n",
            "Step 5100, Loss 0.0241, Time 1443.6s\n",
            "Task Loss: 0.0153, Attention Loss: 0.0032\n",
            "Activity Loss: 0.0057\n",
            "Current Performance Dict: {'Short': 0.585, 'Medium': 0.8, 'Long': 0.715}\n",
            "Current Average Performance: 0.7000000000000001\n",
            "Step 5200, Loss 0.0290, Time 1484.9s\n",
            "Task Loss: 0.0199, Attention Loss: 0.0035\n",
            "Activity Loss: 0.0056\n",
            "Current Performance Dict: {'Short': 0.6, 'Medium': 0.82, 'Long': 0.675}\n",
            "Current Average Performance: 0.6983333333333333\n",
            "Step 5300, Loss 0.0316, Time 1527.1s\n",
            "Task Loss: 0.0221, Attention Loss: 0.0039\n",
            "Activity Loss: 0.0056\n",
            "Current Performance Dict: {'Short': 0.555, 'Medium': 0.5, 'Long': 0.455}\n",
            "Current Average Performance: 0.5033333333333334\n",
            "Step 5400, Loss 0.0346, Time 1568.3s\n",
            "Task Loss: 0.0253, Attention Loss: 0.0037\n",
            "Activity Loss: 0.0056\n",
            "Current Performance Dict: {'Short': 0.71, 'Medium': 0.72, 'Long': 0.43}\n",
            "Current Average Performance: 0.62\n",
            "Step 5500, Loss 0.0251, Time 1609.7s\n",
            "Task Loss: 0.0163, Attention Loss: 0.0034\n",
            "Activity Loss: 0.0055\n",
            "Current Performance Dict: {'Short': 0.68, 'Medium': 0.82, 'Long': 0.63}\n",
            "Current Average Performance: 0.71\n",
            "Step 5600, Loss 0.0270, Time 1650.8s\n",
            "Task Loss: 0.0184, Attention Loss: 0.0032\n",
            "Activity Loss: 0.0054\n",
            "Current Performance Dict: {'Short': 0.595, 'Medium': 0.705, 'Long': 0.61}\n",
            "Current Average Performance: 0.6366666666666666\n",
            "Early Stopping. I have run out of patience Grrr\n",
            "Best model loaded\n",
            "Best Short performance: 0.72\n",
            "Best Medium performance: 0.805\n",
            "Best Long performance: 0.78\n"
          ]
        }
      ],
      "source": [
        "Hierarchical_Gated_Trained, Hierarchical_Gated_training_dict = training_with_early_stop_attention_nets(\n",
        "    Hierarchical_Gated,\n",
        "    training_dataset=dataset_training,\n",
        "    validation_set_dict=validation_set_dictionary,\n",
        "    batch_size=64,\n",
        "    max_steps=1000000,\n",
        "    min_validation_perf=0.7,\n",
        "    patience=5,\n",
        "    num_steps_for_early_stop_check=500,\n",
        "    num_validation_trials=200,\n",
        "    model_name='gated_rnn_model',\n",
        "    tr_output_mode=True,\n",
        "    attention_loss_weight=0.5,\n",
        "    L2A = True\n",
        ")"
      ]
    },
    {
      "cell_type": "code",
      "execution_count": null,
      "metadata": {
        "id": "MEB9rH8zHnEV",
        "colab": {
          "base_uri": "https://localhost:8080/"
        },
        "outputId": "f2b7b08c-2a91-4283-875c-9593fbd4707e"
      },
      "outputs": [
        {
          "output_type": "stream",
          "name": "stdout",
          "text": [
            "Mounted at /content/drive\n",
            "Google Drive mounted.\n",
            "Saving files to: /content/drive/My Drive/2D_TRAINING_OUTS_DIR/\n",
            "Training dictionary saved to /content/drive/My Drive/2D_TRAINING_OUTS_DIR/2Layer_Gated_2707_training_dict.pkl\n",
            "Model state dictionary saved to /content/drive/My Drive/2D_TRAINING_OUTS_DIR/2Layer_Gated_2707_state_dict.pth\n"
          ]
        }
      ],
      "source": [
        "\n",
        "save_training_results(Hierarchical_Gated_training_dict, Hierarchical_Gated_Trained, '2Layer_Gated_2707', '2D_TRAINING_OUTS_DIR')"
      ]
    },
    {
      "cell_type": "markdown",
      "source": [],
      "metadata": {
        "id": "5Am8QHpybOYa"
      }
    },
    {
      "cell_type": "markdown",
      "source": [
        "# ALL ANALYSIS FUNC WORK - NOTE L2A MASKING DEVS"
      ],
      "metadata": {
        "id": "OZp1bgyZLANK"
      }
    },
    {
      "cell_type": "markdown",
      "source": [
        "## Plotting Learning Curve"
      ],
      "metadata": {
        "id": "URi5e0-eLEvt"
      }
    },
    {
      "cell_type": "code",
      "source": [
        "def plot_learning_curve(\n",
        "    learning_curve_dict,\n",
        "    average_only=False,\n",
        "    plot_loss_components=True,\n",
        "    filename=None,\n",
        "    show_legend=True,\n",
        "    legend_location='upper center',\n",
        "    training_threshold=0.8\n",
        "):\n",
        "    \"\"\"\n",
        "    Plots training losses and validation accuracy from a learning_curve_dict.\n",
        "\n",
        "    Args:\n",
        "        learning_curve_dict: dict containing learning curve data.\n",
        "        average_only: If True, plots only average validation performance (instead of perf on each validation set).\n",
        "        plot_loss_components: If True, plots individual loss components (wiring, activity) if they were used.\n",
        "        filename: If provided, saves the figure (need to end with '.png'!.\n",
        "        show_legend: If True, displays the legend.\n",
        "        legend_location: Location of the legend (see bookmarked matplotlib page).\n",
        "    \"\"\"\n",
        "    # --- Unpack Data from Dictionary ---\n",
        "    # Loss Data\n",
        "    tr_epochs_loss = learning_curve_dict['training_loss_epochs_list']\n",
        "    tr_total_loss = learning_curve_dict['total_training_loss_values_list']\n",
        "    tr_task_loss = learning_curve_dict.get('task_training_loss_values_list', [])\n",
        "    tr_attention_loss = learning_curve_dict.get('attention_training_loss_values_list', [])\n",
        "    tr_activity_loss = learning_curve_dict.get('activity_training_loss_values_list', [])\n",
        "\n",
        "    # Validation Data\n",
        "    val_epochs = learning_curve_dict['validation_perf_epochs_list']\n",
        "    val_dicts = learning_curve_dict['validation_perf_dicts_list']\n",
        "    val_avg = learning_curve_dict['validation_perf_avg_values_list']\n",
        "\n",
        "    # Early Stopping Data\n",
        "    n_steps_final = learning_curve_dict.get('n_steps_final', None)\n",
        "    th_location = np.where(np.array(val_avg) > training_threshold)[0][0] if np.any(np.array(val_avg) > training_threshold) else None\n",
        "    n_steps_first_th = val_epochs[th_location] if th_location is not None else None\n",
        "\n",
        "    # --- Plotting ---\n",
        "    fig, ax1 = plt.subplots(figsize=(12, 6))\n",
        "\n",
        "    # Plot Training Losses on the left y-axis (ax1)\n",
        "    ax1.set_xlabel('Epoch')\n",
        "    ax1.set_ylabel('Loss', color='tab:blue')\n",
        "    ax1.tick_params(axis='y', labelcolor='tab:blue')\n",
        "    ax1.plot(tr_epochs_loss, tr_total_loss, color='tab:blue', label='Total Training Loss')\n",
        "\n",
        "    if plot_loss_components:\n",
        "        # Plot attention loss if it was used\n",
        "        if np.any(tr_attention_loss):\n",
        "            ax1.plot(tr_epochs_loss, tr_attention_loss, color='tab:green', linestyle=':', label='Attention Map Loss')\n",
        "        # Plot activity loss if it was used\n",
        "        if np.any(tr_activity_loss):\n",
        "            ax1.plot(tr_epochs_loss, tr_activity_loss, color='tab:cyan', linestyle=':', label='Activity Loss')\n",
        "\n",
        "    # Create a second y-axis for validation performance (ax2)\n",
        "    ax2 = ax1.twinx()\n",
        "    ax2.set_ylabel('Validation Performance', color='tab:red')\n",
        "    ax2.tick_params(axis='y', labelcolor='tab:red')\n",
        "    ax2.set_ylim(0, 1.05) # Set y-axis for performance from 0 to 1\n",
        "\n",
        "    # Plot Validation Performance on the right y-axis (ax2)\n",
        "    if average_only:\n",
        "        ax2.plot(val_epochs, val_avg, color='tab:red', linestyle='--', label='Average Validation Performance')\n",
        "    else:\n",
        "        if val_dicts:\n",
        "            validation_set_names = list(val_dicts[0].keys())\n",
        "            # Use a colormap with highly contrasting colours\n",
        "            colors = plt.cm.get_cmap('Set1')(np.linspace(0, 1, len(validation_set_names)))\n",
        "\n",
        "            for i, name in enumerate(validation_set_names):\n",
        "                values = [d[name] for d in val_dicts]\n",
        "                ax2.plot(val_epochs, values, color=colors[i], linestyle='-', label=f'{name} Performance')\n",
        "\n",
        "    # Plot vertical lines for early stopping events\n",
        "    if n_steps_first_th is not None:\n",
        "        ax2.axvline(x=n_steps_first_th, color='gray', linestyle='--', label='Perf. Threshold Met')\n",
        "    if n_steps_final is not None and n_steps_final > 0:\n",
        "         ax2.axvline(x=n_steps_final, color='black', linestyle='--', label='Early Stopping')\n",
        "\n",
        "    # Combine legends from both axes\n",
        "    if show_legend:\n",
        "        lines1, labels1 = ax1.get_legend_handles_labels()\n",
        "        lines2, labels2 = ax2.get_legend_handles_labels()\n",
        "        ax2.legend(lines1 + lines2, labels1 + labels2, loc=legend_location)\n",
        "\n",
        "    plt.title('Learning Curve: Training Loss and Validation Performance vs. Epoch')\n",
        "    fig.tight_layout()\n",
        "\n",
        "    if filename:\n",
        "        plt.savefig(filename, dpi=300, bbox_inches='tight')\n",
        "        print(f\"Figure saved to {filename}\")\n",
        "\n",
        "    plt.show()"
      ],
      "metadata": {
        "id": "hmQmNNsKWHPA"
      },
      "execution_count": null,
      "outputs": []
    },
    {
      "cell_type": "markdown",
      "source": [
        "## Network Testing Functions"
      ],
      "metadata": {
        "id": "r5dEsQGQLGs9"
      }
    },
    {
      "cell_type": "markdown",
      "source": [
        "### Reused Validation Code (with Modifications where defined)"
      ],
      "metadata": {
        "id": "FLOzvn-cLKNC"
      }
    },
    {
      "cell_type": "code",
      "source": [
        "# MODIFIED\n",
        "\n",
        "\n",
        "def testing_trials_network(net, dataset, num_trials=5000):\n",
        "    \"\"\"\n",
        "    Testing function (CALLS FORWARD WITH tracked_outputs and returns the tracked elements in a dict (similar to 2b,c work))\n",
        "    \"\"\"\n",
        "    env = dataset.env\n",
        "    env.reset()\n",
        "\n",
        "\n",
        "\n",
        "    trial_correctness_records = {}\n",
        "    trial_data_and_activity = {}\n",
        "\n",
        "    environment_info = {\n",
        "        'dt' : env.dt,\n",
        "        'trial_start_ind': env.start_ind,\n",
        "        'trial_end_ind': env.end_ind,\n",
        "        'timing': env.timing,\n",
        "        'sigma': env.sigma,\n",
        "        'choices': env.choices,\n",
        "        'stim_values_array': env.theta\n",
        "        }\n",
        "\n",
        "    correct_trials = 0\n",
        "\n",
        "    for i in range(num_trials):\n",
        "\n",
        "        # Initialise dictionary for the current trial's data\n",
        "        trial_data_and_activity[i] = {}\n",
        "\n",
        "\n",
        "        # Sample a new trial to get all necessary info\n",
        "        trial_info = env.new_trial()\n",
        "        ob, gt = env.ob, env.gt\n",
        "\n",
        "        # Get the timing info for this specific trial\n",
        "        start_ind_dict = env.start_ind\n",
        "        end_ind_dict = env.end_ind\n",
        "\n",
        "        # Convert to tensor for the network\n",
        "        inputs_tensor = torch.from_numpy(ob[:, np.newaxis, :]).type(torch.float).to(device)\n",
        "\n",
        "        # Change -- Collect everything!\n",
        "\n",
        "        # task_outputs, _ = net(inputs)\n",
        "        task_outputs, attention_maps, hidden_activity_tuple = net(inputs_tensor, track_outputs=True)\n",
        "\n",
        "        # Detach and convert to numpy for validation\n",
        "        task_outputs_np = task_outputs.detach().cpu().numpy()[:, 0, :]\n",
        "        attention_maps_np = attention_maps.detach().cpu().numpy()[:,0,:]\n",
        "        # Use the final validation logic we developed\n",
        "        is_correct = validate_trial_final(\n",
        "            task_outputs_np,\n",
        "            trial_info,\n",
        "            start_ind_dict,\n",
        "            end_ind_dict\n",
        "        )\n",
        "\n",
        "        if len(hidden_activity_tuple) == 4:\n",
        "          # Unpack tuple and .detach().numpy() each to become shaped (seq_len, hidden_size)\n",
        "          hidden_states_bu1, hidden_states_bu2, hidden_states_td1, hidden_states_td2 = [\n",
        "              activity.detach().cpu().numpy()[:, 0, :] for activity in hidden_activity_tuple\n",
        "          ]\n",
        "          network_hidden_activity_dict = {\n",
        "              'hidden_states_bu1': hidden_states_bu1,\n",
        "              'hidden_states_bu2': hidden_states_bu2,\n",
        "              'hidden_states_td1': hidden_states_td1,\n",
        "              'hidden_states_td2': hidden_states_td2\n",
        "          }\n",
        "        elif len(hidden_activity_tuple) == 2:\n",
        "          hidden_states_it, hidden_states_pf = [\n",
        "              activity.detach().cpu().numpy()[:,0,:] for activity in hidden_activity_tuple\n",
        "          ] #(seq_len, hidden_size)\n",
        "          network_hidden_activity_dict = {\n",
        "              'hidden_states_it': hidden_states_it,\n",
        "              'hidden_states_pf': hidden_states_pf\n",
        "          }\n",
        "        else:\n",
        "          print(\"UNEXPECTED RETURN SIGNATURE FOR hidden activity tuple\")\n",
        "\n",
        "        trial_data_and_activity[i]['hidden_activity_dict'] = network_hidden_activity_dict\n",
        "        trial_data_and_activity[i]['output_layer_activity'] = task_outputs_np\n",
        "        trial_data_and_activity[i]['sample_stim_value'] = trial_info['sample']\n",
        "        trial_data_and_activity[i]['ground_truth_period'] = trial_info['ground_truth']\n",
        "        trial_data_and_activity[i]['network_correct'] = is_correct\n",
        "        trial_data_and_activity[i]['inputs'] = ob\n",
        "        trial_data_and_activity[i]['attention_maps'] = attention_maps_np\n",
        "\n",
        "\n",
        "        trial_correctness_records[i] = {}\n",
        "        trial_correctness_records[i].update({'correct': is_correct})\n",
        "\n",
        "       # Print Average trial performance during testing\n",
        "    average_trial_performance = np.mean([val['correct'] for val in trial_correctness_records.values()])\n",
        "    print('Average performance', average_trial_performance)\n",
        "\n",
        "    # PACKING THE DICTS\n",
        "    full_testing_data = {\n",
        "        'testing_env_info' : environment_info,\n",
        "        'testing_trial_and_activity': trial_data_and_activity,\n",
        "        'testing_trial_performance': average_trial_performance\n",
        "    }\n",
        "\n",
        "    return full_testing_data"
      ],
      "metadata": {
        "id": "5vVkjmK_NA_c"
      },
      "execution_count": null,
      "outputs": []
    },
    {
      "cell_type": "markdown",
      "source": [
        "### Main Attention Network Testing and Tracking Function"
      ],
      "metadata": {
        "id": "W-1crJu_LQQX"
      }
    },
    {
      "cell_type": "code",
      "source": [],
      "metadata": {
        "id": "4vZrw1DkLTG_"
      },
      "execution_count": null,
      "outputs": []
    },
    {
      "cell_type": "markdown",
      "source": [
        "## Analysis of Tracked Outputs"
      ],
      "metadata": {
        "id": "WZb4na0ULTpF"
      }
    },
    {
      "cell_type": "markdown",
      "source": [
        "### Network Performance Bar Graph Plotter"
      ],
      "metadata": {
        "id": "w5xibEt1LXJz"
      }
    },
    {
      "cell_type": "code",
      "source": [],
      "metadata": {
        "id": "dAPaTXv2LWjL"
      },
      "execution_count": null,
      "outputs": []
    },
    {
      "cell_type": "markdown",
      "source": [
        "### Heat Map Visualisation Functions"
      ],
      "metadata": {
        "id": "JZf_pc9BLbQR"
      }
    },
    {
      "cell_type": "markdown",
      "source": [
        "#### Panel Plot"
      ],
      "metadata": {
        "id": "08NYU-S8Ls7i"
      }
    },
    {
      "cell_type": "code",
      "source": [
        "def plot_trial_with_attention_heatmaps(trial_data, trial_env_info_dict):\n",
        "    \"\"\"\n",
        "    Creates a multi-panel plot for a single trial to visualise the attention mechanism,\n",
        "    using heatmaps for both the gated input and the attention map.\n",
        "    \"\"\"\n",
        "\n",
        "    # --- Unpack the data for the trial ---\n",
        "    raw_inputs = trial_data['inputs'] # The original, ungated inputs\n",
        "    attention_maps = trial_data['attention_maps']\n",
        "    task_outputs = trial_data['output_layer_activity']\n",
        "    start_indices = trial_env_info_dict['trial_start_ind']\n",
        "\n",
        "    # --- Calculate the Gated Input ---\n",
        "    # We need to re-calculate the gated input for visualisation purposes\n",
        "    fixation_input = raw_inputs[:, 0:1]\n",
        "    sensory_input = raw_inputs[:, 1:]\n",
        "\n",
        "    # The attention map from the previous step gates the current steps input\n",
        "    # -> shift the attention maps by one step for accurate visualisation.\n",
        "    gate_for_current_step = np.vstack([np.ones((1, attention_maps.shape[1])), attention_maps[:-1, :]])\n",
        "\n",
        "    gated_sensory_input = sensory_input * gate_for_current_step\n",
        "\n",
        "    seq_len = raw_inputs.shape[0]\n",
        "    time_steps = np.arange(seq_len)\n",
        "\n",
        "    # --- Create the plot ---\n",
        "    #use a slightly larger figure to accommodate the colourbars nicely\n",
        "    fig, axes = plt.subplots(3, 1, figsize=(12, 9), sharex=True)\n",
        "    fig.suptitle(f\"Trial Analysis (Dataset: {trial_data['dataset_name']}, Correct: {trial_data['is_correct']})\", fontsize=16)\n",
        "\n",
        "    # --- Panel 1: Gated Sensory Input (as a heatmap) ---\n",
        "    im1 = axes[0].imshow(gated_sensory_input.T, aspect='auto', cmap='plasma', origin='lower', vmin=0, vmax=1)\n",
        "    axes[0].set_ylabel('Sensory Dimension')\n",
        "    axes[0].set_title('Gated Sensory Input (What the network sees)')\n",
        "    fig.colorbar(im1, ax=axes[0], label='Input Value (0-1)')\n",
        "\n",
        "    # --- Panel 2: Attention Map ---\n",
        "    im2 = axes[1].imshow(attention_maps.T, aspect='auto', cmap='viridis', origin='lower', vmin=0, vmax=1)\n",
        "    axes[1].set_ylabel('Sensory Dimension')\n",
        "    axes[1].set_title('Output Attention Map (The Gate)')\n",
        "    fig.colorbar(im2, ax=axes[1], label='Gate Value (0-1)')\n",
        "\n",
        "    # --- Panel 3: Task Output (Decision) ---\n",
        "    axes[2].plot(time_steps, task_outputs)\n",
        "    axes[2].set_ylabel('Activation')\n",
        "    axes[2].set_xlabel('Time Step')\n",
        "    axes[2].set_title('Final Decision Layer Output')\n",
        "    axes[2].legend(['Fixation', 'Match'])\n",
        "    axes[2].set_ylim([-0.1, 1.1]) # Set y-axis limits for clarity\n",
        "\n",
        "    # Add vertical lines to mark the trial periods\n",
        "    for ax in axes:\n",
        "        for period, start in start_indices.items():\n",
        "            ax.axvline(x=start, color='gray', linestyle='--', alpha=0.7)\n",
        "\n",
        "    plt.tight_layout(rect=[0, 0.03, 1, 0.95])\n",
        "    plt.show()"
      ],
      "metadata": {
        "id": "kPco_l4nLenc"
      },
      "execution_count": null,
      "outputs": []
    }
  ],
  "metadata": {
    "colab": {
      "provenance": [],
      "toc_visible": true
    },
    "kernelspec": {
      "display_name": "Python 3",
      "name": "python3"
    },
    "language_info": {
      "name": "python"
    }
  },
  "nbformat": 4,
  "nbformat_minor": 0
}